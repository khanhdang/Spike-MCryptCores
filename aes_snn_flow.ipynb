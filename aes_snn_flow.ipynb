{
  "nbformat": 4,
  "nbformat_minor": 0,
  "metadata": {
    "colab": {
      "name": "aes_snn_flow.ipynb",
      "provenance": [],
      "collapsed_sections": [],
      "toc_visible": true,
      "include_colab_link": true
    },
    "kernelspec": {
      "name": "python3",
      "display_name": "Python 3"
    },
    "language_info": {
      "name": "python"
    },
    "accelerator": "GPU"
  },
  "cells": [
    {
      "cell_type": "markdown",
      "metadata": {
        "id": "view-in-github",
        "colab_type": "text"
      },
      "source": [
        "<a href=\"https://colab.research.google.com/github/khanhdang/Spike-MCryptCores/blob/main/aes_snn_flow.ipynb\" target=\"_parent\"><img src=\"https://colab.research.google.com/assets/colab-badge.svg\" alt=\"Open In Colab\"/></a>"
      ]
    },
    {
      "cell_type": "markdown",
      "source": [
        "# Setup for the flow\n"
      ],
      "metadata": {
        "id": "rO3dOYlNm0UQ"
      }
    },
    {
      "cell_type": "markdown",
      "source": [
        "## Install various Python modules"
      ],
      "metadata": {
        "id": "nCUEGM5qsFAv"
      }
    },
    {
      "cell_type": "code",
      "execution_count": null,
      "metadata": {
        "id": "LU82WkwbmLei",
        "colab": {
          "base_uri": "https://localhost:8080/"
        },
        "outputId": "1fff5edb-1a15-4933-d558-475293161e2b"
      },
      "outputs": [
        {
          "output_type": "stream",
          "name": "stdout",
          "text": [
            "Requirement already satisfied: spikingjelly in /usr/local/lib/python3.7/dist-packages (0.0.0.0.8)\n",
            "Requirement already satisfied: torch>=1.5.0 in /usr/local/lib/python3.7/dist-packages (from spikingjelly) (1.10.0+cu111)\n",
            "Requirement already satisfied: onnx==1.8.0 in /usr/local/lib/python3.7/dist-packages (from spikingjelly) (1.8.0)\n",
            "Requirement already satisfied: scipy in /usr/local/lib/python3.7/dist-packages (from spikingjelly) (1.4.1)\n",
            "Requirement already satisfied: tqdm in /usr/local/lib/python3.7/dist-packages (from spikingjelly) (4.62.3)\n",
            "Requirement already satisfied: matplotlib in /usr/local/lib/python3.7/dist-packages (from spikingjelly) (3.2.2)\n",
            "Requirement already satisfied: torchvision in /usr/local/lib/python3.7/dist-packages (from spikingjelly) (0.11.1+cu111)\n",
            "Requirement already satisfied: numpy in /usr/local/lib/python3.7/dist-packages (from spikingjelly) (1.21.5)\n",
            "Requirement already satisfied: six in /usr/local/lib/python3.7/dist-packages (from onnx==1.8.0->spikingjelly) (1.15.0)\n",
            "Requirement already satisfied: protobuf in /usr/local/lib/python3.7/dist-packages (from onnx==1.8.0->spikingjelly) (3.17.3)\n",
            "Requirement already satisfied: typing-extensions>=3.6.2.1 in /usr/local/lib/python3.7/dist-packages (from onnx==1.8.0->spikingjelly) (3.10.0.2)\n",
            "Requirement already satisfied: cycler>=0.10 in /usr/local/lib/python3.7/dist-packages (from matplotlib->spikingjelly) (0.11.0)\n",
            "Requirement already satisfied: python-dateutil>=2.1 in /usr/local/lib/python3.7/dist-packages (from matplotlib->spikingjelly) (2.8.2)\n",
            "Requirement already satisfied: pyparsing!=2.0.4,!=2.1.2,!=2.1.6,>=2.0.1 in /usr/local/lib/python3.7/dist-packages (from matplotlib->spikingjelly) (3.0.7)\n",
            "Requirement already satisfied: kiwisolver>=1.0.1 in /usr/local/lib/python3.7/dist-packages (from matplotlib->spikingjelly) (1.3.2)\n",
            "Requirement already satisfied: pillow!=8.3.0,>=5.3.0 in /usr/local/lib/python3.7/dist-packages (from torchvision->spikingjelly) (7.1.2)\n",
            "Requirement already satisfied: gdown in /usr/local/lib/python3.7/dist-packages (4.2.1)\n",
            "Requirement already satisfied: tqdm in /usr/local/lib/python3.7/dist-packages (from gdown) (4.62.3)\n",
            "Requirement already satisfied: beautifulsoup4 in /usr/local/lib/python3.7/dist-packages (from gdown) (4.6.3)\n",
            "Requirement already satisfied: requests[socks] in /usr/local/lib/python3.7/dist-packages (from gdown) (2.23.0)\n",
            "Requirement already satisfied: six in /usr/local/lib/python3.7/dist-packages (from gdown) (1.15.0)\n",
            "Requirement already satisfied: filelock in /usr/local/lib/python3.7/dist-packages (from gdown) (3.4.2)\n",
            "Requirement already satisfied: urllib3!=1.25.0,!=1.25.1,<1.26,>=1.21.1 in /usr/local/lib/python3.7/dist-packages (from requests[socks]->gdown) (1.24.3)\n",
            "Requirement already satisfied: idna<3,>=2.5 in /usr/local/lib/python3.7/dist-packages (from requests[socks]->gdown) (2.10)\n",
            "Requirement already satisfied: chardet<4,>=3.0.2 in /usr/local/lib/python3.7/dist-packages (from requests[socks]->gdown) (3.0.4)\n",
            "Requirement already satisfied: certifi>=2017.4.17 in /usr/local/lib/python3.7/dist-packages (from requests[socks]->gdown) (2021.10.8)\n",
            "Requirement already satisfied: PySocks!=1.5.7,>=1.5.6 in /usr/local/lib/python3.7/dist-packages (from requests[socks]->gdown) (1.7.1)\n",
            "Requirement already satisfied: onnxruntime in /usr/local/lib/python3.7/dist-packages (1.10.0)\n",
            "Requirement already satisfied: numpy>=1.16.6 in /usr/local/lib/python3.7/dist-packages (from onnxruntime) (1.21.5)\n",
            "Requirement already satisfied: flatbuffers in /usr/local/lib/python3.7/dist-packages (from onnxruntime) (2.0)\n",
            "Requirement already satisfied: protobuf in /usr/local/lib/python3.7/dist-packages (from onnxruntime) (3.17.3)\n",
            "Requirement already satisfied: six>=1.9 in /usr/local/lib/python3.7/dist-packages (from protobuf->onnxruntime) (1.15.0)\n"
          ]
        }
      ],
      "source": [
        "!pip install spikingjelly\n",
        "!pip install gdown\n",
        "!pip install onnxruntime"
      ]
    },
    {
      "cell_type": "markdown",
      "source": [
        "## Download the training data and the training labels"
      ],
      "metadata": {
        "id": "G58hUf9mnKuF"
      }
    },
    {
      "cell_type": "code",
      "source": [
        "!gdown --id 1ujWdxWxGRswGPH7DPnaVpNlpxTX6jA9Y\n",
        "!gdown --id 14cN-RtGb1yTSdMsYMWgt6VoWf-PNJjbI"
      ],
      "metadata": {
        "id": "6PXfn6PHnSgl",
        "colab": {
          "base_uri": "https://localhost:8080/"
        },
        "outputId": "2fc62277-1173-41c6-afc4-1c363552c7af"
      },
      "execution_count": null,
      "outputs": [
        {
          "output_type": "stream",
          "name": "stdout",
          "text": [
            "Downloading...\n",
            "From: https://drive.google.com/uc?id=1ujWdxWxGRswGPH7DPnaVpNlpxTX6jA9Y\n",
            "To: /content/data_training.csv\n",
            "100% 87.3k/87.3k [00:00<00:00, 8.62MB/s]\n",
            "Downloading...\n",
            "From: https://drive.google.com/uc?id=14cN-RtGb1yTSdMsYMWgt6VoWf-PNJjbI\n",
            "To: /content/output.csv\n",
            "100% 9.89k/9.89k [00:00<00:00, 16.4MB/s]\n"
          ]
        }
      ]
    },
    {
      "cell_type": "markdown",
      "source": [
        "## Define the Dataset and the Dataloader"
      ],
      "metadata": {
        "id": "Tl6zQjw8o_zc"
      }
    },
    {
      "cell_type": "code",
      "source": [
        ""
      ],
      "metadata": {
        "id": "Qb7ayMLosDhs"
      },
      "execution_count": null,
      "outputs": []
    },
    {
      "cell_type": "code",
      "source": [
        "import numpy as np\n",
        "import pandas as pd\n",
        "from torch.utils.data.dataset import Dataset\n",
        "from torchvision import transforms\n",
        "from torch.utils.data.sampler import SubsetRandomSampler\n",
        "class AESDataset(Dataset):\n",
        "    def __init__(self, data_path, label_path,max_values,min_values):\n",
        "        # Transforms\n",
        "        self.to_tensor = transforms.ToTensor()\n",
        "    # Read the csv file\n",
        "        self.data = pd.read_csv(data_path, header=None)\n",
        "        self.label = pd.read_csv(label_path, header=None)\n",
        "        self.data = self.data.to_numpy() \n",
        "        for i in range(self.data.shape[0]):\n",
        "            # max_val = self.data[i][:].max()\n",
        "            # min_val = self.data[i][:].min()\n",
        "            max_val = max_values[i]\n",
        "            min_val = min_values[i]\n",
        "            self.data[i][:] = (self.data[i][:] - min_val) / (max_val - min_val)\n",
        "        self.label = self.label.to_numpy()\n",
        "        self.data_len = self.data.shape[1]\n",
        "\n",
        "    def __getitem__(self, index):\n",
        "        # Get image name from the pandas df\n",
        "        return (self.data[:, index].astype(np.float32), self.label[:, index][0].astype(np.long))\n",
        "\n",
        "    def __len__(self):\n",
        "        return self.data_len\n",
        "\n",
        "def get_loader(batch_size,max_values,min_values):\n",
        "    validation_split = .2\n",
        "    shuffle_dataset = True\n",
        "    random_seed = 50 \n",
        "    dataset = AESDataset('data_training.csv', 'output.csv', max_values,min_values)\n",
        "    # Creating data indices for training and validation splits:\n",
        "    dataset_size = len(dataset)\n",
        "    indices = list(range(dataset_size))\n",
        "    split = int(np.floor(validation_split * dataset_size))\n",
        "    if shuffle_dataset:\n",
        "        np.random.seed(random_seed)\n",
        "        np.random.shuffle(indices)\n",
        "    train_indices, val_indices = indices[split:], indices[:split]\n",
        "    # Creating PT data samplers and loaders:\n",
        "    train_sampler = SubsetRandomSampler(train_indices)\n",
        "    test_sampler = SubsetRandomSampler(val_indices)\n",
        "\n",
        "    train_loader = torch.utils.data.DataLoader(dataset,\n",
        "                                               sampler=train_sampler, batch_size=batch_size)\n",
        "    test_loader = torch.utils.data.DataLoader(dataset,\n",
        "                                              sampler=test_sampler, batch_size=batch_size)\n",
        "    return train_loader, test_loader"
      ],
      "metadata": {
        "id": "nOdESyWNoNnG"
      },
      "execution_count": null,
      "outputs": []
    },
    {
      "cell_type": "markdown",
      "source": [
        "# Use spikingjelly to train ANN and convert to SNN"
      ],
      "metadata": {
        "id": "8PE2HlXGpvJx"
      }
    },
    {
      "cell_type": "markdown",
      "source": [
        "## Various Imports for Spikingjelly"
      ],
      "metadata": {
        "id": "k3AU96UVqWc4"
      }
    },
    {
      "cell_type": "code",
      "source": [
        "import matplotlib.pyplot as plt\n",
        "import os\n",
        "import spikingjelly.clock_driven.ann2snn.examples.utils as utils\n",
        "import torch\n",
        "import torch.nn as nn\n",
        "from spikingjelly.clock_driven.ann2snn import classify_simulator, parser"
      ],
      "metadata": {
        "id": "_jWKGSQvp2O_"
      },
      "execution_count": null,
      "outputs": []
    },
    {
      "cell_type": "markdown",
      "source": [
        "## Define ANN model (i.e., Fully-Connected 8 - 5 - 11)"
      ],
      "metadata": {
        "id": "OKPxiweMqcFV"
      }
    },
    {
      "cell_type": "code",
      "source": [
        "class ANN(nn.Module):\n",
        "    def __init__(self):\n",
        "        super().__init__()\n",
        "        self.network = nn.Sequential(\n",
        "            nn.Flatten(),\n",
        "            nn.Linear(8, 5),\n",
        "            nn.ReLU(),\n",
        "            nn.Linear(5, 11)\n",
        "        )\n",
        "    def forward(self, x):\n",
        "        x = self.network(x)\n",
        "        return x"
      ],
      "metadata": {
        "id": "9vAN1dT0qe98"
      },
      "execution_count": null,
      "outputs": []
    },
    {
      "cell_type": "markdown",
      "source": [
        "## Settings for log dir, training settings, etc"
      ],
      "metadata": {
        "id": "EAD_OJo1q1w1"
      }
    },
    {
      "cell_type": "code",
      "source": [
        "log_dir = \"./aes_fc\"\n",
        "torch.random.manual_seed(0)\n",
        "torch.cuda.manual_seed(0)\n",
        "train_device = \"cpu\"\n",
        "parser_device = \"cpu\"\n",
        "simulator_device = parser_device\n",
        "batch_size = 64\n",
        "learning_rate = 1e-1\n",
        "T = 20\n",
        "train_epoch = 100\n",
        "model_name = \"aes_fc\"\n",
        "load = False\n",
        "if log_dir == None:\n",
        "    from datetime import datetime\n",
        "    current_time = datetime.now().strftime('%b%d_%H-%M-%S')\n",
        "    log_dir = model_name + '-' + current_time\n",
        "    if not os.path.exists(log_dir):\n",
        "        os.makedirs(log_dir)\n",
        "else:\n",
        "    if not os.path.exists(log_dir):\n",
        "        os.makedirs(log_dir)\n",
        "    if not os.path.exists(os.path.join(log_dir, model_name + '.pkl')):\n",
        "        print('%s has no model to load.' % (log_dir))\n",
        "        load = False\n",
        "    else:\n",
        "        load = True"
      ],
      "metadata": {
        "id": "oovzfLN7q-F6"
      },
      "execution_count": null,
      "outputs": []
    },
    {
      "cell_type": "markdown",
      "source": [
        "## Train ANN models"
      ],
      "metadata": {
        "id": "9Kv-vmgnrh1L"
      }
    },
    {
      "cell_type": "code",
      "source": [
        "# initialize data loader\n",
        "max_values = [100,100,100,100,100,100,100,8]\n",
        "min_values = [0,0,0,0,-100,-100,-100,-8]\n",
        "train_data_loader, test_data_loader = get_loader(batch_size,max_values,min_values)\n",
        "ann = ANN().to(train_device)\n",
        "loss_function = nn.CrossEntropyLoss()\n",
        "load=False\n",
        "if not load:\n",
        "    print(\"a\")\n",
        "    optimizer = torch.optim.Adam(\n",
        "        ann.parameters(), lr=learning_rate, weight_decay=5e-4)\n",
        "    best_acc = 0.0\n",
        "    for epoch in range(train_epoch):\n",
        "        utils.train_ann(net=ann,\n",
        "                        device=train_device,\n",
        "                        data_loader=train_data_loader,\n",
        "                        optimizer=optimizer,\n",
        "                        loss_function=loss_function,\n",
        "                        epoch=epoch\n",
        "                        )\n",
        "        acc = utils.val_ann(net=ann,\n",
        "                            device=train_device,\n",
        "                            data_loader=test_data_loader,\n",
        "                            loss_function=loss_function,\n",
        "                            epoch=epoch\n",
        "                            )\n",
        "        if best_acc <= acc:\n",
        "            utils.save_model(ann, log_dir, model_name + '.pkl')\n",
        "ann = torch.load(os.path.join(log_dir, model_name + '.pkl'))\n",
        "print('validating best model...')\n",
        "ann_acc = utils.val_ann(net=ann,\n",
        "                        device=train_device,\n",
        "                        data_loader=test_data_loader,\n",
        "                        loss_function=loss_function\n",
        "                        )\n",
        "print(ann_acc)"
      ],
      "metadata": {
        "id": "xPISxA4grb10",
        "colab": {
          "base_uri": "https://localhost:8080/"
        },
        "outputId": "d92ef8df-0235-4b4f-af55-102b309413a0"
      },
      "execution_count": null,
      "outputs": [
        {
          "output_type": "stream",
          "name": "stderr",
          "text": [
            "/usr/local/lib/python3.7/dist-packages/ipykernel_launcher.py:25: DeprecationWarning: `np.long` is a deprecated alias for `np.compat.long`. To silence this warning, use `np.compat.long` by itself. In the likely event your code does not need to work on Python 2 you can use the builtin `int` for which `np.compat.long` is itself an alias. Doing this will not modify any behaviour and is safe. When replacing `np.long`, you may wish to use e.g. `np.int64` or `np.int32` to specify the precision. If you wish to review your current use, check the release note link for additional information.\n",
            "Deprecated in NumPy 1.20; for more details and guidance: https://numpy.org/devdocs/release/1.20.0-notes.html#deprecations\n"
          ]
        },
        {
          "output_type": "stream",
          "name": "stdout",
          "text": [
            "a\n",
            "Epoch 0 [1/5] ANN Training Loss:2.311 Accuracy:0.260\n"
          ]
        },
        {
          "output_type": "stream",
          "name": "stderr",
          "text": [
            "100%|██████████| 2/2 [00:00<00:00, 253.36it/s]\n"
          ]
        },
        {
          "output_type": "stream",
          "name": "stdout",
          "text": [
            "Epoch 0 [2/2] ANN Validating Loss:1.925 Accuracy:0.527\n",
            "Save model to: ./aes_fc/aes_fc.pkl\n",
            "Epoch 1 [1/5] ANN Training Loss:1.892 Accuracy:0.533\n"
          ]
        },
        {
          "output_type": "stream",
          "name": "stderr",
          "text": [
            "100%|██████████| 2/2 [00:00<00:00, 285.76it/s]\n"
          ]
        },
        {
          "output_type": "stream",
          "name": "stdout",
          "text": [
            "Epoch 1 [2/2] ANN Validating Loss:1.471 Accuracy:0.527\n",
            "Save model to: ./aes_fc/aes_fc.pkl\n",
            "Epoch 2 [1/5] ANN Training Loss:1.554 Accuracy:0.526\n"
          ]
        },
        {
          "output_type": "stream",
          "name": "stderr",
          "text": [
            "100%|██████████| 2/2 [00:00<00:00, 403.10it/s]\n"
          ]
        },
        {
          "output_type": "stream",
          "name": "stdout",
          "text": [
            "Epoch 2 [2/2] ANN Validating Loss:1.277 Accuracy:0.521\n",
            "Save model to: ./aes_fc/aes_fc.pkl\n",
            "Epoch 3 [1/5] ANN Training Loss:1.356 Accuracy:0.476\n"
          ]
        },
        {
          "output_type": "stream",
          "name": "stderr",
          "text": [
            "100%|██████████| 2/2 [00:00<00:00, 255.45it/s]\n"
          ]
        },
        {
          "output_type": "stream",
          "name": "stdout",
          "text": [
            "Epoch 3 [2/2] ANN Validating Loss:1.361 Accuracy:0.521\n",
            "Save model to: ./aes_fc/aes_fc.pkl\n",
            "Epoch 4 [1/5] ANN Training Loss:1.157 Accuracy:0.544\n"
          ]
        },
        {
          "output_type": "stream",
          "name": "stderr",
          "text": [
            "100%|██████████| 2/2 [00:00<00:00, 203.44it/s]\n"
          ]
        },
        {
          "output_type": "stream",
          "name": "stdout",
          "text": [
            "Epoch 4 [2/2] ANN Validating Loss:1.075 Accuracy:0.603\n",
            "Save model to: ./aes_fc/aes_fc.pkl\n",
            "Epoch 5 [1/5] ANN Training Loss:1.046 Accuracy:0.567\n"
          ]
        },
        {
          "output_type": "stream",
          "name": "stderr",
          "text": [
            "100%|██████████| 2/2 [00:00<00:00, 273.24it/s]\n"
          ]
        },
        {
          "output_type": "stream",
          "name": "stdout",
          "text": [
            "Epoch 5 [2/2] ANN Validating Loss:0.940 Accuracy:0.623\n",
            "Save model to: ./aes_fc/aes_fc.pkl\n",
            "Epoch 6 [1/5] ANN Training Loss:1.001 Accuracy:0.613\n"
          ]
        },
        {
          "output_type": "stream",
          "name": "stderr",
          "text": [
            "100%|██████████| 2/2 [00:00<00:00, 286.42it/s]\n"
          ]
        },
        {
          "output_type": "stream",
          "name": "stdout",
          "text": [
            "Epoch 6 [2/2] ANN Validating Loss:0.907 Accuracy:0.615\n",
            "Save model to: ./aes_fc/aes_fc.pkl\n",
            "Epoch 7 [1/5] ANN Training Loss:0.927 Accuracy:0.629\n"
          ]
        },
        {
          "output_type": "stream",
          "name": "stderr",
          "text": [
            "100%|██████████| 2/2 [00:00<00:00, 275.23it/s]\n"
          ]
        },
        {
          "output_type": "stream",
          "name": "stdout",
          "text": [
            "Epoch 7 [2/2] ANN Validating Loss:0.858 Accuracy:0.653\n",
            "Save model to: ./aes_fc/aes_fc.pkl\n",
            "Epoch 8 [1/5] ANN Training Loss:0.880 Accuracy:0.642\n"
          ]
        },
        {
          "output_type": "stream",
          "name": "stderr",
          "text": [
            "100%|██████████| 2/2 [00:00<00:00, 400.87it/s]\n"
          ]
        },
        {
          "output_type": "stream",
          "name": "stdout",
          "text": [
            "Epoch 8 [2/2] ANN Validating Loss:0.826 Accuracy:0.686\n",
            "Save model to: ./aes_fc/aes_fc.pkl\n",
            "Epoch 9 [1/5] ANN Training Loss:0.725 Accuracy:0.679\n"
          ]
        },
        {
          "output_type": "stream",
          "name": "stderr",
          "text": [
            "100%|██████████| 2/2 [00:00<00:00, 266.69it/s]"
          ]
        },
        {
          "output_type": "stream",
          "name": "stdout",
          "text": [
            "Epoch 9 [2/2] ANN Validating Loss:0.703 Accuracy:0.745\n",
            "Save model to: ./aes_fc/aes_fc.pkl\n"
          ]
        },
        {
          "output_type": "stream",
          "name": "stderr",
          "text": [
            "\n"
          ]
        },
        {
          "output_type": "stream",
          "name": "stdout",
          "text": [
            "Epoch 10 [1/5] ANN Training Loss:0.710 Accuracy:0.774\n"
          ]
        },
        {
          "output_type": "stream",
          "name": "stderr",
          "text": [
            "100%|██████████| 2/2 [00:00<00:00, 261.99it/s]\n"
          ]
        },
        {
          "output_type": "stream",
          "name": "stdout",
          "text": [
            "Epoch 10 [2/2] ANN Validating Loss:0.649 Accuracy:0.682\n",
            "Save model to: ./aes_fc/aes_fc.pkl\n",
            "Epoch 11 [1/5] ANN Training Loss:0.688 Accuracy:0.681\n"
          ]
        },
        {
          "output_type": "stream",
          "name": "stderr",
          "text": [
            "100%|██████████| 2/2 [00:00<00:00, 256.45it/s]\n"
          ]
        },
        {
          "output_type": "stream",
          "name": "stdout",
          "text": [
            "Epoch 11 [2/2] ANN Validating Loss:0.582 Accuracy:0.822\n",
            "Save model to: ./aes_fc/aes_fc.pkl\n",
            "Epoch 12 [1/5] ANN Training Loss:0.638 Accuracy:0.859\n"
          ]
        },
        {
          "output_type": "stream",
          "name": "stderr",
          "text": [
            "100%|██████████| 2/2 [00:00<00:00, 348.67it/s]\n"
          ]
        },
        {
          "output_type": "stream",
          "name": "stdout",
          "text": [
            "Epoch 12 [2/2] ANN Validating Loss:0.571 Accuracy:0.801\n",
            "Save model to: ./aes_fc/aes_fc.pkl\n",
            "Epoch 13 [1/5] ANN Training Loss:0.609 Accuracy:0.802\n"
          ]
        },
        {
          "output_type": "stream",
          "name": "stderr",
          "text": [
            "100%|██████████| 2/2 [00:00<00:00, 205.58it/s]\n"
          ]
        },
        {
          "output_type": "stream",
          "name": "stdout",
          "text": [
            "Epoch 13 [2/2] ANN Validating Loss:0.477 Accuracy:0.881\n",
            "Save model to: ./aes_fc/aes_fc.pkl\n",
            "Epoch 14 [1/5] ANN Training Loss:0.597 Accuracy:0.875\n"
          ]
        },
        {
          "output_type": "stream",
          "name": "stderr",
          "text": [
            "100%|██████████| 2/2 [00:00<00:00, 385.10it/s]"
          ]
        },
        {
          "output_type": "stream",
          "name": "stdout",
          "text": [
            "Epoch 14 [2/2] ANN Validating Loss:0.501 Accuracy:0.824\n"
          ]
        },
        {
          "output_type": "stream",
          "name": "stderr",
          "text": [
            "\n"
          ]
        },
        {
          "output_type": "stream",
          "name": "stdout",
          "text": [
            "Save model to: ./aes_fc/aes_fc.pkl\n",
            "Epoch 15 [1/5] ANN Training Loss:0.535 Accuracy:0.818\n"
          ]
        },
        {
          "output_type": "stream",
          "name": "stderr",
          "text": [
            "100%|██████████| 2/2 [00:00<00:00, 273.49it/s]\n"
          ]
        },
        {
          "output_type": "stream",
          "name": "stdout",
          "text": [
            "Epoch 15 [2/2] ANN Validating Loss:0.474 Accuracy:0.889\n",
            "Save model to: ./aes_fc/aes_fc.pkl\n",
            "Epoch 16 [1/5] ANN Training Loss:0.535 Accuracy:0.891\n"
          ]
        },
        {
          "output_type": "stream",
          "name": "stderr",
          "text": [
            "100%|██████████| 2/2 [00:00<00:00, 313.58it/s]\n"
          ]
        },
        {
          "output_type": "stream",
          "name": "stdout",
          "text": [
            "Epoch 16 [2/2] ANN Validating Loss:0.429 Accuracy:0.893\n",
            "Save model to: ./aes_fc/aes_fc.pkl\n",
            "Epoch 17 [1/5] ANN Training Loss:0.497 Accuracy:0.909\n"
          ]
        },
        {
          "output_type": "stream",
          "name": "stderr",
          "text": [
            "100%|██████████| 2/2 [00:00<00:00, 220.08it/s]\n"
          ]
        },
        {
          "output_type": "stream",
          "name": "stdout",
          "text": [
            "Epoch 17 [2/2] ANN Validating Loss:0.477 Accuracy:0.902\n",
            "Save model to: ./aes_fc/aes_fc.pkl\n",
            "Epoch 18 [1/5] ANN Training Loss:0.508 Accuracy:0.888\n"
          ]
        },
        {
          "output_type": "stream",
          "name": "stderr",
          "text": [
            "100%|██████████| 2/2 [00:00<00:00, 355.60it/s]\n"
          ]
        },
        {
          "output_type": "stream",
          "name": "stdout",
          "text": [
            "Epoch 18 [2/2] ANN Validating Loss:0.457 Accuracy:0.851\n",
            "Save model to: ./aes_fc/aes_fc.pkl\n",
            "Epoch 19 [1/5] ANN Training Loss:0.451 Accuracy:0.870\n"
          ]
        },
        {
          "output_type": "stream",
          "name": "stderr",
          "text": [
            "100%|██████████| 2/2 [00:00<00:00, 184.36it/s]\n"
          ]
        },
        {
          "output_type": "stream",
          "name": "stdout",
          "text": [
            "Epoch 19 [2/2] ANN Validating Loss:0.404 Accuracy:0.912\n",
            "Save model to: ./aes_fc/aes_fc.pkl\n",
            "Epoch 20 [1/5] ANN Training Loss:0.408 Accuracy:0.902\n"
          ]
        },
        {
          "output_type": "stream",
          "name": "stderr",
          "text": [
            "100%|██████████| 2/2 [00:00<00:00, 288.62it/s]\n"
          ]
        },
        {
          "output_type": "stream",
          "name": "stdout",
          "text": [
            "Epoch 20 [2/2] ANN Validating Loss:0.393 Accuracy:0.948\n",
            "Save model to: ./aes_fc/aes_fc.pkl\n",
            "Epoch 21 [1/5] ANN Training Loss:0.409 Accuracy:0.941\n"
          ]
        },
        {
          "output_type": "stream",
          "name": "stderr",
          "text": [
            "100%|██████████| 2/2 [00:00<00:00, 258.89it/s]\n"
          ]
        },
        {
          "output_type": "stream",
          "name": "stdout",
          "text": [
            "Epoch 21 [2/2] ANN Validating Loss:0.405 Accuracy:0.877\n",
            "Save model to: ./aes_fc/aes_fc.pkl\n",
            "Epoch 22 [1/5] ANN Training Loss:0.392 Accuracy:0.902\n"
          ]
        },
        {
          "output_type": "stream",
          "name": "stderr",
          "text": [
            "100%|██████████| 2/2 [00:00<00:00, 253.00it/s]\n"
          ]
        },
        {
          "output_type": "stream",
          "name": "stdout",
          "text": [
            "Epoch 22 [2/2] ANN Validating Loss:0.324 Accuracy:0.929\n",
            "Save model to: ./aes_fc/aes_fc.pkl\n",
            "Epoch 23 [1/5] ANN Training Loss:0.365 Accuracy:0.941\n"
          ]
        },
        {
          "output_type": "stream",
          "name": "stderr",
          "text": [
            "100%|██████████| 2/2 [00:00<00:00, 223.70it/s]\n"
          ]
        },
        {
          "output_type": "stream",
          "name": "stdout",
          "text": [
            "Epoch 23 [2/2] ANN Validating Loss:0.383 Accuracy:0.939\n",
            "Save model to: ./aes_fc/aes_fc.pkl\n",
            "Epoch 24 [1/5] ANN Training Loss:0.419 Accuracy:0.920\n"
          ]
        },
        {
          "output_type": "stream",
          "name": "stderr",
          "text": [
            "100%|██████████| 2/2 [00:00<00:00, 186.55it/s]\n"
          ]
        },
        {
          "output_type": "stream",
          "name": "stdout",
          "text": [
            "Epoch 24 [2/2] ANN Validating Loss:0.340 Accuracy:0.937\n",
            "Save model to: ./aes_fc/aes_fc.pkl\n",
            "Epoch 25 [1/5] ANN Training Loss:0.366 Accuracy:0.932\n"
          ]
        },
        {
          "output_type": "stream",
          "name": "stderr",
          "text": [
            "100%|██████████| 2/2 [00:00<00:00, 228.67it/s]\n"
          ]
        },
        {
          "output_type": "stream",
          "name": "stdout",
          "text": [
            "Epoch 25 [2/2] ANN Validating Loss:0.309 Accuracy:0.939\n",
            "Save model to: ./aes_fc/aes_fc.pkl\n",
            "Epoch 26 [1/5] ANN Training Loss:0.329 Accuracy:0.929\n"
          ]
        },
        {
          "output_type": "stream",
          "name": "stderr",
          "text": [
            "100%|██████████| 2/2 [00:00<00:00, 169.52it/s]\n"
          ]
        },
        {
          "output_type": "stream",
          "name": "stdout",
          "text": [
            "Epoch 26 [2/2] ANN Validating Loss:0.316 Accuracy:0.954\n",
            "Save model to: ./aes_fc/aes_fc.pkl\n",
            "Epoch 27 [1/5] ANN Training Loss:0.294 Accuracy:0.966\n"
          ]
        },
        {
          "output_type": "stream",
          "name": "stderr",
          "text": [
            "100%|██████████| 2/2 [00:00<00:00, 224.01it/s]\n"
          ]
        },
        {
          "output_type": "stream",
          "name": "stdout",
          "text": [
            "Epoch 27 [2/2] ANN Validating Loss:0.348 Accuracy:0.935\n",
            "Save model to: ./aes_fc/aes_fc.pkl\n",
            "Epoch 28 [1/5] ANN Training Loss:0.308 Accuracy:0.952\n"
          ]
        },
        {
          "output_type": "stream",
          "name": "stderr",
          "text": [
            "100%|██████████| 2/2 [00:00<00:00, 209.92it/s]\n"
          ]
        },
        {
          "output_type": "stream",
          "name": "stdout",
          "text": [
            "Epoch 28 [2/2] ANN Validating Loss:0.294 Accuracy:0.952\n",
            "Save model to: ./aes_fc/aes_fc.pkl\n",
            "Epoch 29 [1/5] ANN Training Loss:0.289 Accuracy:0.950\n"
          ]
        },
        {
          "output_type": "stream",
          "name": "stderr",
          "text": [
            "100%|██████████| 2/2 [00:00<00:00, 218.97it/s]"
          ]
        },
        {
          "output_type": "stream",
          "name": "stdout",
          "text": [
            "Epoch 29 [2/2] ANN Validating Loss:0.297 Accuracy:0.985\n",
            "Save model to: ./aes_fc/aes_fc.pkl\n",
            "Epoch 30 [1/5] ANN Training Loss:0.272 Accuracy:0.993\n"
          ]
        },
        {
          "output_type": "stream",
          "name": "stderr",
          "text": [
            "\n",
            "100%|██████████| 2/2 [00:00<00:00, 215.51it/s]\n"
          ]
        },
        {
          "output_type": "stream",
          "name": "stdout",
          "text": [
            "Epoch 30 [2/2] ANN Validating Loss:0.282 Accuracy:0.958\n",
            "Save model to: ./aes_fc/aes_fc.pkl\n",
            "Epoch 31 [1/5] ANN Training Loss:0.270 Accuracy:0.973\n"
          ]
        },
        {
          "output_type": "stream",
          "name": "stderr",
          "text": [
            "100%|██████████| 2/2 [00:00<00:00, 134.43it/s]"
          ]
        },
        {
          "output_type": "stream",
          "name": "stdout",
          "text": [
            "Epoch 31 [2/2] ANN Validating Loss:0.274 Accuracy:0.960\n",
            "Save model to: ./aes_fc/aes_fc.pkl\n"
          ]
        },
        {
          "output_type": "stream",
          "name": "stderr",
          "text": [
            "\n"
          ]
        },
        {
          "output_type": "stream",
          "name": "stdout",
          "text": [
            "Epoch 32 [1/5] ANN Training Loss:0.256 Accuracy:0.970\n"
          ]
        },
        {
          "output_type": "stream",
          "name": "stderr",
          "text": [
            "100%|██████████| 2/2 [00:00<00:00, 202.71it/s]\n"
          ]
        },
        {
          "output_type": "stream",
          "name": "stdout",
          "text": [
            "Epoch 32 [2/2] ANN Validating Loss:0.267 Accuracy:0.950\n",
            "Save model to: ./aes_fc/aes_fc.pkl\n",
            "Epoch 33 [1/5] ANN Training Loss:0.249 Accuracy:0.952\n"
          ]
        },
        {
          "output_type": "stream",
          "name": "stderr",
          "text": [
            "100%|██████████| 2/2 [00:00<00:00, 194.62it/s]\n"
          ]
        },
        {
          "output_type": "stream",
          "name": "stdout",
          "text": [
            "Epoch 33 [2/2] ANN Validating Loss:0.230 Accuracy:0.962\n",
            "Save model to: ./aes_fc/aes_fc.pkl\n",
            "Epoch 34 [1/5] ANN Training Loss:0.248 Accuracy:0.959\n"
          ]
        },
        {
          "output_type": "stream",
          "name": "stderr",
          "text": [
            "100%|██████████| 2/2 [00:00<00:00, 201.46it/s]\n"
          ]
        },
        {
          "output_type": "stream",
          "name": "stdout",
          "text": [
            "Epoch 34 [2/2] ANN Validating Loss:0.270 Accuracy:0.956\n",
            "Save model to: ./aes_fc/aes_fc.pkl\n",
            "Epoch 35 [1/5] ANN Training Loss:0.245 Accuracy:0.954\n"
          ]
        },
        {
          "output_type": "stream",
          "name": "stderr",
          "text": [
            "100%|██████████| 2/2 [00:00<00:00, 189.65it/s]\n"
          ]
        },
        {
          "output_type": "stream",
          "name": "stdout",
          "text": [
            "Epoch 35 [2/2] ANN Validating Loss:0.218 Accuracy:0.964\n",
            "Save model to: ./aes_fc/aes_fc.pkl\n",
            "Epoch 36 [1/5] ANN Training Loss:0.233 Accuracy:0.957\n"
          ]
        },
        {
          "output_type": "stream",
          "name": "stderr",
          "text": [
            "100%|██████████| 2/2 [00:00<00:00, 206.66it/s]\n"
          ]
        },
        {
          "output_type": "stream",
          "name": "stdout",
          "text": [
            "Epoch 36 [2/2] ANN Validating Loss:0.247 Accuracy:0.979\n",
            "Save model to: ./aes_fc/aes_fc.pkl\n",
            "Epoch 37 [1/5] ANN Training Loss:0.244 Accuracy:0.975\n"
          ]
        },
        {
          "output_type": "stream",
          "name": "stderr",
          "text": [
            "100%|██████████| 2/2 [00:00<00:00, 216.13it/s]\n"
          ]
        },
        {
          "output_type": "stream",
          "name": "stdout",
          "text": [
            "Epoch 37 [2/2] ANN Validating Loss:0.215 Accuracy:0.964\n",
            "Save model to: ./aes_fc/aes_fc.pkl\n",
            "Epoch 38 [1/5] ANN Training Loss:0.236 Accuracy:0.973\n"
          ]
        },
        {
          "output_type": "stream",
          "name": "stderr",
          "text": [
            "100%|██████████| 2/2 [00:00<00:00, 221.08it/s]"
          ]
        },
        {
          "output_type": "stream",
          "name": "stdout",
          "text": [
            "Epoch 38 [2/2] ANN Validating Loss:0.241 Accuracy:0.992\n",
            "Save model to: ./aes_fc/aes_fc.pkl\n"
          ]
        },
        {
          "output_type": "stream",
          "name": "stderr",
          "text": [
            "\n"
          ]
        },
        {
          "output_type": "stream",
          "name": "stdout",
          "text": [
            "Epoch 39 [1/5] ANN Training Loss:0.232 Accuracy:1.000\n"
          ]
        },
        {
          "output_type": "stream",
          "name": "stderr",
          "text": [
            "100%|██████████| 2/2 [00:00<00:00, 201.80it/s]"
          ]
        },
        {
          "output_type": "stream",
          "name": "stdout",
          "text": [
            "Epoch 39 [2/2] ANN Validating Loss:0.255 Accuracy:0.962\n",
            "Save model to: ./aes_fc/aes_fc.pkl\n",
            "Epoch 40 [1/5] ANN Training Loss:0.236 Accuracy:0.961"
          ]
        },
        {
          "output_type": "stream",
          "name": "stderr",
          "text": [
            "\n"
          ]
        },
        {
          "output_type": "stream",
          "name": "stdout",
          "text": [
            "\n"
          ]
        },
        {
          "output_type": "stream",
          "name": "stderr",
          "text": [
            "100%|██████████| 2/2 [00:00<00:00, 211.85it/s]\n"
          ]
        },
        {
          "output_type": "stream",
          "name": "stdout",
          "text": [
            "Epoch 40 [2/2] ANN Validating Loss:0.253 Accuracy:0.964\n",
            "Save model to: ./aes_fc/aes_fc.pkl\n",
            "Epoch 41 [1/5] ANN Training Loss:0.202 Accuracy:0.968\n"
          ]
        },
        {
          "output_type": "stream",
          "name": "stderr",
          "text": [
            "100%|██████████| 2/2 [00:00<00:00, 183.43it/s]"
          ]
        },
        {
          "output_type": "stream",
          "name": "stdout",
          "text": [
            "Epoch 41 [2/2] ANN Validating Loss:0.208 Accuracy:0.992\n",
            "Save model to: ./aes_fc/aes_fc.pkl\n",
            "Epoch 42 [1/5] ANN Training Loss:0.201 Accuracy:0.993\n"
          ]
        },
        {
          "output_type": "stream",
          "name": "stderr",
          "text": [
            "\n",
            "100%|██████████| 2/2 [00:00<00:00, 223.99it/s]\n"
          ]
        },
        {
          "output_type": "stream",
          "name": "stdout",
          "text": [
            "Epoch 42 [2/2] ANN Validating Loss:0.216 Accuracy:0.952\n",
            "Save model to: ./aes_fc/aes_fc.pkl\n",
            "Epoch 43 [1/5] ANN Training Loss:0.221 Accuracy:0.948\n"
          ]
        },
        {
          "output_type": "stream",
          "name": "stderr",
          "text": [
            "100%|██████████| 2/2 [00:00<00:00, 210.69it/s]\n"
          ]
        },
        {
          "output_type": "stream",
          "name": "stdout",
          "text": [
            "Epoch 43 [2/2] ANN Validating Loss:0.166 Accuracy:0.979\n",
            "Save model to: ./aes_fc/aes_fc.pkl\n",
            "Epoch 44 [1/5] ANN Training Loss:0.193 Accuracy:0.975\n"
          ]
        },
        {
          "output_type": "stream",
          "name": "stderr",
          "text": [
            "100%|██████████| 2/2 [00:00<00:00, 225.50it/s]\n"
          ]
        },
        {
          "output_type": "stream",
          "name": "stdout",
          "text": [
            "Epoch 44 [2/2] ANN Validating Loss:0.200 Accuracy:0.987\n",
            "Save model to: ./aes_fc/aes_fc.pkl\n",
            "Epoch 45 [1/5] ANN Training Loss:0.183 Accuracy:0.991\n"
          ]
        },
        {
          "output_type": "stream",
          "name": "stderr",
          "text": [
            "100%|██████████| 2/2 [00:00<00:00, 84.17it/s]\n"
          ]
        },
        {
          "output_type": "stream",
          "name": "stdout",
          "text": [
            "Epoch 45 [2/2] ANN Validating Loss:0.194 Accuracy:0.952\n",
            "Save model to: ./aes_fc/aes_fc.pkl\n",
            "Epoch 46 [1/5] ANN Training Loss:0.197 Accuracy:0.950\n"
          ]
        },
        {
          "output_type": "stream",
          "name": "stderr",
          "text": [
            "100%|██████████| 2/2 [00:00<00:00, 220.40it/s]\n"
          ]
        },
        {
          "output_type": "stream",
          "name": "stdout",
          "text": [
            "Epoch 46 [2/2] ANN Validating Loss:0.187 Accuracy:0.975\n",
            "Save model to: ./aes_fc/aes_fc.pkl\n",
            "Epoch 47 [1/5] ANN Training Loss:0.173 Accuracy:0.989\n"
          ]
        },
        {
          "output_type": "stream",
          "name": "stderr",
          "text": [
            "100%|██████████| 2/2 [00:00<00:00, 184.43it/s]\n"
          ]
        },
        {
          "output_type": "stream",
          "name": "stdout",
          "text": [
            "Epoch 47 [2/2] ANN Validating Loss:0.243 Accuracy:0.983\n",
            "Save model to: ./aes_fc/aes_fc.pkl\n",
            "Epoch 48 [1/5] ANN Training Loss:0.203 Accuracy:0.991\n"
          ]
        },
        {
          "output_type": "stream",
          "name": "stderr",
          "text": [
            "100%|██████████| 2/2 [00:00<00:00, 208.27it/s]\n"
          ]
        },
        {
          "output_type": "stream",
          "name": "stdout",
          "text": [
            "Epoch 48 [2/2] ANN Validating Loss:0.197 Accuracy:0.944\n",
            "Save model to: ./aes_fc/aes_fc.pkl\n",
            "Epoch 49 [1/5] ANN Training Loss:0.218 Accuracy:0.954\n"
          ]
        },
        {
          "output_type": "stream",
          "name": "stderr",
          "text": [
            "100%|██████████| 2/2 [00:00<00:00, 217.89it/s]\n"
          ]
        },
        {
          "output_type": "stream",
          "name": "stdout",
          "text": [
            "Epoch 49 [2/2] ANN Validating Loss:0.234 Accuracy:0.990\n",
            "Save model to: ./aes_fc/aes_fc.pkl\n",
            "Epoch 50 [1/5] ANN Training Loss:0.221 Accuracy:0.995\n"
          ]
        },
        {
          "output_type": "stream",
          "name": "stderr",
          "text": [
            "100%|██████████| 2/2 [00:00<00:00, 173.14it/s]\n"
          ]
        },
        {
          "output_type": "stream",
          "name": "stdout",
          "text": [
            "Epoch 50 [2/2] ANN Validating Loss:0.182 Accuracy:0.990\n",
            "Save model to: ./aes_fc/aes_fc.pkl\n",
            "Epoch 51 [1/5] ANN Training Loss:0.184 Accuracy:0.993\n"
          ]
        },
        {
          "output_type": "stream",
          "name": "stderr",
          "text": [
            "100%|██████████| 2/2 [00:00<00:00, 126.76it/s]\n"
          ]
        },
        {
          "output_type": "stream",
          "name": "stdout",
          "text": [
            "Epoch 51 [2/2] ANN Validating Loss:0.205 Accuracy:0.971\n",
            "Save model to: ./aes_fc/aes_fc.pkl\n",
            "Epoch 52 [1/5] ANN Training Loss:0.188 Accuracy:0.973\n"
          ]
        },
        {
          "output_type": "stream",
          "name": "stderr",
          "text": [
            "100%|██████████| 2/2 [00:00<00:00, 163.94it/s]\n"
          ]
        },
        {
          "output_type": "stream",
          "name": "stdout",
          "text": [
            "Epoch 52 [2/2] ANN Validating Loss:0.170 Accuracy:0.977\n",
            "Save model to: ./aes_fc/aes_fc.pkl\n",
            "Epoch 53 [1/5] ANN Training Loss:0.186 Accuracy:0.973\n"
          ]
        },
        {
          "output_type": "stream",
          "name": "stderr",
          "text": [
            "100%|██████████| 2/2 [00:00<00:00, 60.32it/s]\n"
          ]
        },
        {
          "output_type": "stream",
          "name": "stdout",
          "text": [
            "Epoch 53 [2/2] ANN Validating Loss:0.176 Accuracy:0.954\n",
            "Save model to: ./aes_fc/aes_fc.pkl\n",
            "Epoch 54 [1/5] ANN Training Loss:0.202 Accuracy:0.961\n"
          ]
        },
        {
          "output_type": "stream",
          "name": "stderr",
          "text": [
            "100%|██████████| 2/2 [00:00<00:00, 223.38it/s]\n"
          ]
        },
        {
          "output_type": "stream",
          "name": "stdout",
          "text": [
            "Epoch 54 [2/2] ANN Validating Loss:0.186 Accuracy:0.981\n",
            "Save model to: ./aes_fc/aes_fc.pkl\n",
            "Epoch 55 [1/5] ANN Training Loss:0.178 Accuracy:0.984\n"
          ]
        },
        {
          "output_type": "stream",
          "name": "stderr",
          "text": [
            "100%|██████████| 2/2 [00:00<00:00, 230.21it/s]\n"
          ]
        },
        {
          "output_type": "stream",
          "name": "stdout",
          "text": [
            "Epoch 55 [2/2] ANN Validating Loss:0.197 Accuracy:0.956\n",
            "Save model to: ./aes_fc/aes_fc.pkl\n",
            "Epoch 56 [1/5] ANN Training Loss:0.188 Accuracy:0.959\n"
          ]
        },
        {
          "output_type": "stream",
          "name": "stderr",
          "text": [
            "100%|██████████| 2/2 [00:00<00:00, 229.63it/s]\n"
          ]
        },
        {
          "output_type": "stream",
          "name": "stdout",
          "text": [
            "Epoch 56 [2/2] ANN Validating Loss:0.173 Accuracy:0.975\n",
            "Save model to: ./aes_fc/aes_fc.pkl\n",
            "Epoch 57 [1/5] ANN Training Loss:0.183 Accuracy:0.975\n"
          ]
        },
        {
          "output_type": "stream",
          "name": "stderr",
          "text": [
            "100%|██████████| 2/2 [00:00<00:00, 155.30it/s]\n"
          ]
        },
        {
          "output_type": "stream",
          "name": "stdout",
          "text": [
            "Epoch 57 [2/2] ANN Validating Loss:0.166 Accuracy:0.958\n",
            "Save model to: ./aes_fc/aes_fc.pkl\n",
            "Epoch 58 [1/5] ANN Training Loss:0.172 Accuracy:0.961\n"
          ]
        },
        {
          "output_type": "stream",
          "name": "stderr",
          "text": [
            "100%|██████████| 2/2 [00:00<00:00, 208.30it/s]\n"
          ]
        },
        {
          "output_type": "stream",
          "name": "stdout",
          "text": [
            "Epoch 58 [2/2] ANN Validating Loss:0.189 Accuracy:0.996\n",
            "Save model to: ./aes_fc/aes_fc.pkl\n",
            "Epoch 59 [1/5] ANN Training Loss:0.154 Accuracy:0.998\n"
          ]
        },
        {
          "output_type": "stream",
          "name": "stderr",
          "text": [
            "100%|██████████| 2/2 [00:00<00:00, 170.20it/s]"
          ]
        },
        {
          "output_type": "stream",
          "name": "stdout",
          "text": [
            "Epoch 59 [2/2] ANN Validating Loss:0.199 Accuracy:0.971\n",
            "Save model to: ./aes_fc/aes_fc.pkl\n"
          ]
        },
        {
          "output_type": "stream",
          "name": "stderr",
          "text": [
            "\n"
          ]
        },
        {
          "output_type": "stream",
          "name": "stdout",
          "text": [
            "Epoch 60 [1/5] ANN Training Loss:0.181 Accuracy:0.970\n"
          ]
        },
        {
          "output_type": "stream",
          "name": "stderr",
          "text": [
            "100%|██████████| 2/2 [00:00<00:00, 165.47it/s]\n"
          ]
        },
        {
          "output_type": "stream",
          "name": "stdout",
          "text": [
            "Epoch 60 [2/2] ANN Validating Loss:0.152 Accuracy:0.994\n",
            "Save model to: ./aes_fc/aes_fc.pkl\n",
            "Epoch 61 [1/5] ANN Training Loss:0.136 Accuracy:1.000\n"
          ]
        },
        {
          "output_type": "stream",
          "name": "stderr",
          "text": [
            "100%|██████████| 2/2 [00:00<00:00, 185.49it/s]\n"
          ]
        },
        {
          "output_type": "stream",
          "name": "stdout",
          "text": [
            "Epoch 61 [2/2] ANN Validating Loss:0.149 Accuracy:0.975\n",
            "Save model to: ./aes_fc/aes_fc.pkl\n",
            "Epoch 62 [1/5] ANN Training Loss:0.149 Accuracy:0.984\n"
          ]
        },
        {
          "output_type": "stream",
          "name": "stderr",
          "text": [
            "100%|██████████| 2/2 [00:00<00:00, 210.00it/s]"
          ]
        },
        {
          "output_type": "stream",
          "name": "stdout",
          "text": [
            "Epoch 62 [2/2] ANN Validating Loss:0.176 Accuracy:0.996\n"
          ]
        },
        {
          "output_type": "stream",
          "name": "stderr",
          "text": [
            "\n"
          ]
        },
        {
          "output_type": "stream",
          "name": "stdout",
          "text": [
            "Save model to: ./aes_fc/aes_fc.pkl\n",
            "Epoch 63 [1/5] ANN Training Loss:0.153 Accuracy:0.995\n"
          ]
        },
        {
          "output_type": "stream",
          "name": "stderr",
          "text": [
            "100%|██████████| 2/2 [00:00<00:00, 159.65it/s]\n"
          ]
        },
        {
          "output_type": "stream",
          "name": "stdout",
          "text": [
            "Epoch 63 [2/2] ANN Validating Loss:0.156 Accuracy:0.998\n",
            "Save model to: ./aes_fc/aes_fc.pkl\n",
            "Epoch 64 [1/5] ANN Training Loss:0.141 Accuracy:0.998\n"
          ]
        },
        {
          "output_type": "stream",
          "name": "stderr",
          "text": [
            "100%|██████████| 2/2 [00:00<00:00, 201.63it/s]\n"
          ]
        },
        {
          "output_type": "stream",
          "name": "stdout",
          "text": [
            "Epoch 64 [2/2] ANN Validating Loss:0.157 Accuracy:0.998\n",
            "Save model to: ./aes_fc/aes_fc.pkl\n",
            "Epoch 65 [1/5] ANN Training Loss:0.148 Accuracy:1.000\n"
          ]
        },
        {
          "output_type": "stream",
          "name": "stderr",
          "text": [
            "100%|██████████| 2/2 [00:00<00:00, 143.40it/s]\n"
          ]
        },
        {
          "output_type": "stream",
          "name": "stdout",
          "text": [
            "Epoch 65 [2/2] ANN Validating Loss:0.202 Accuracy:0.956\n",
            "Save model to: ./aes_fc/aes_fc.pkl\n",
            "Epoch 66 [1/5] ANN Training Loss:0.158 Accuracy:0.954\n"
          ]
        },
        {
          "output_type": "stream",
          "name": "stderr",
          "text": [
            "100%|██████████| 2/2 [00:00<00:00, 247.23it/s]\n"
          ]
        },
        {
          "output_type": "stream",
          "name": "stdout",
          "text": [
            "Epoch 66 [2/2] ANN Validating Loss:0.149 Accuracy:0.996\n",
            "Save model to: ./aes_fc/aes_fc.pkl\n",
            "Epoch 67 [1/5] ANN Training Loss:0.140 Accuracy:0.995\n"
          ]
        },
        {
          "output_type": "stream",
          "name": "stderr",
          "text": [
            "100%|██████████| 2/2 [00:00<00:00, 224.61it/s]\n"
          ]
        },
        {
          "output_type": "stream",
          "name": "stdout",
          "text": [
            "Epoch 67 [2/2] ANN Validating Loss:0.150 Accuracy:0.998\n",
            "Save model to: ./aes_fc/aes_fc.pkl\n",
            "Epoch 68 [1/5] ANN Training Loss:0.144 Accuracy:0.998\n"
          ]
        },
        {
          "output_type": "stream",
          "name": "stderr",
          "text": [
            "100%|██████████| 2/2 [00:00<00:00, 224.34it/s]\n"
          ]
        },
        {
          "output_type": "stream",
          "name": "stdout",
          "text": [
            "Epoch 68 [2/2] ANN Validating Loss:0.153 Accuracy:0.998\n",
            "Save model to: ./aes_fc/aes_fc.pkl\n",
            "Epoch 69 [1/5] ANN Training Loss:0.138 Accuracy:0.995\n"
          ]
        },
        {
          "output_type": "stream",
          "name": "stderr",
          "text": [
            "100%|██████████| 2/2 [00:00<00:00, 236.12it/s]\n"
          ]
        },
        {
          "output_type": "stream",
          "name": "stdout",
          "text": [
            "Epoch 69 [2/2] ANN Validating Loss:0.131 Accuracy:0.975\n",
            "Save model to: ./aes_fc/aes_fc.pkl\n",
            "Epoch 70 [1/5] ANN Training Loss:0.155 Accuracy:0.979\n"
          ]
        },
        {
          "output_type": "stream",
          "name": "stderr",
          "text": [
            "100%|██████████| 2/2 [00:00<00:00, 79.45it/s]\n"
          ]
        },
        {
          "output_type": "stream",
          "name": "stdout",
          "text": [
            "Epoch 70 [2/2] ANN Validating Loss:0.143 Accuracy:0.983\n",
            "Save model to: ./aes_fc/aes_fc.pkl\n",
            "Epoch 71 [1/5] ANN Training Loss:0.138 Accuracy:0.982\n"
          ]
        },
        {
          "output_type": "stream",
          "name": "stderr",
          "text": [
            "100%|██████████| 2/2 [00:00<00:00, 82.19it/s]\n"
          ]
        },
        {
          "output_type": "stream",
          "name": "stdout",
          "text": [
            "Epoch 71 [2/2] ANN Validating Loss:0.144 Accuracy:1.000\n",
            "Save model to: ./aes_fc/aes_fc.pkl\n",
            "Epoch 72 [1/5] ANN Training Loss:0.131 Accuracy:1.000\n"
          ]
        },
        {
          "output_type": "stream",
          "name": "stderr",
          "text": [
            "100%|██████████| 2/2 [00:00<00:00, 123.40it/s]\n"
          ]
        },
        {
          "output_type": "stream",
          "name": "stdout",
          "text": [
            "Epoch 72 [2/2] ANN Validating Loss:0.148 Accuracy:0.987\n",
            "Save model to: ./aes_fc/aes_fc.pkl\n",
            "Epoch 73 [1/5] ANN Training Loss:0.142 Accuracy:0.993\n"
          ]
        },
        {
          "output_type": "stream",
          "name": "stderr",
          "text": [
            "100%|██████████| 2/2 [00:00<00:00, 12.79it/s]\n"
          ]
        },
        {
          "output_type": "stream",
          "name": "stdout",
          "text": [
            "Epoch 73 [2/2] ANN Validating Loss:0.117 Accuracy:0.983\n",
            "Save model to: ./aes_fc/aes_fc.pkl\n",
            "Epoch 74 [1/5] ANN Training Loss:0.137 Accuracy:0.984\n"
          ]
        },
        {
          "output_type": "stream",
          "name": "stderr",
          "text": [
            "100%|██████████| 2/2 [00:00<00:00, 219.21it/s]\n"
          ]
        },
        {
          "output_type": "stream",
          "name": "stdout",
          "text": [
            "Epoch 74 [2/2] ANN Validating Loss:0.126 Accuracy:1.000\n",
            "Save model to: ./aes_fc/aes_fc.pkl\n",
            "Epoch 75 [1/5] ANN Training Loss:0.142 Accuracy:1.000\n"
          ]
        },
        {
          "output_type": "stream",
          "name": "stderr",
          "text": [
            "100%|██████████| 2/2 [00:00<00:00, 193.47it/s]\n"
          ]
        },
        {
          "output_type": "stream",
          "name": "stdout",
          "text": [
            "Epoch 75 [2/2] ANN Validating Loss:0.131 Accuracy:1.000\n",
            "Save model to: ./aes_fc/aes_fc.pkl\n",
            "Epoch 76 [1/5] ANN Training Loss:0.130 Accuracy:0.998\n"
          ]
        },
        {
          "output_type": "stream",
          "name": "stderr",
          "text": [
            "100%|██████████| 2/2 [00:00<00:00, 227.90it/s]\n"
          ]
        },
        {
          "output_type": "stream",
          "name": "stdout",
          "text": [
            "Epoch 76 [2/2] ANN Validating Loss:0.132 Accuracy:0.981\n",
            "Save model to: ./aes_fc/aes_fc.pkl\n",
            "Epoch 77 [1/5] ANN Training Loss:0.137 Accuracy:0.973\n"
          ]
        },
        {
          "output_type": "stream",
          "name": "stderr",
          "text": [
            "100%|██████████| 2/2 [00:00<00:00, 211.31it/s]\n"
          ]
        },
        {
          "output_type": "stream",
          "name": "stdout",
          "text": [
            "Epoch 77 [2/2] ANN Validating Loss:0.141 Accuracy:1.000\n",
            "Save model to: ./aes_fc/aes_fc.pkl\n",
            "Epoch 78 [1/5] ANN Training Loss:0.130 Accuracy:1.000\n"
          ]
        },
        {
          "output_type": "stream",
          "name": "stderr",
          "text": [
            "100%|██████████| 2/2 [00:00<00:00, 227.65it/s]\n"
          ]
        },
        {
          "output_type": "stream",
          "name": "stdout",
          "text": [
            "Epoch 78 [2/2] ANN Validating Loss:0.154 Accuracy:1.000\n",
            "Save model to: ./aes_fc/aes_fc.pkl\n",
            "Epoch 79 [1/5] ANN Training Loss:0.119 Accuracy:0.998\n"
          ]
        },
        {
          "output_type": "stream",
          "name": "stderr",
          "text": [
            "100%|██████████| 2/2 [00:00<00:00, 84.49it/s]\n"
          ]
        },
        {
          "output_type": "stream",
          "name": "stdout",
          "text": [
            "Epoch 79 [2/2] ANN Validating Loss:0.135 Accuracy:0.977\n",
            "Save model to: ./aes_fc/aes_fc.pkl\n",
            "Epoch 80 [1/5] ANN Training Loss:0.134 Accuracy:0.979\n"
          ]
        },
        {
          "output_type": "stream",
          "name": "stderr",
          "text": [
            "100%|██████████| 2/2 [00:00<00:00, 227.38it/s]\n"
          ]
        },
        {
          "output_type": "stream",
          "name": "stdout",
          "text": [
            "Epoch 80 [2/2] ANN Validating Loss:0.128 Accuracy:0.987\n",
            "Save model to: ./aes_fc/aes_fc.pkl\n",
            "Epoch 81 [1/5] ANN Training Loss:0.136 Accuracy:0.989\n"
          ]
        },
        {
          "output_type": "stream",
          "name": "stderr",
          "text": [
            "100%|██████████| 2/2 [00:00<00:00, 176.88it/s]\n"
          ]
        },
        {
          "output_type": "stream",
          "name": "stdout",
          "text": [
            "Epoch 81 [2/2] ANN Validating Loss:0.120 Accuracy:1.000\n",
            "Save model to: ./aes_fc/aes_fc.pkl\n",
            "Epoch 82 [1/5] ANN Training Loss:0.128 Accuracy:1.000\n"
          ]
        },
        {
          "output_type": "stream",
          "name": "stderr",
          "text": [
            "100%|██████████| 2/2 [00:00<00:00, 182.07it/s]\n"
          ]
        },
        {
          "output_type": "stream",
          "name": "stdout",
          "text": [
            "Epoch 82 [2/2] ANN Validating Loss:0.153 Accuracy:0.998\n",
            "Save model to: ./aes_fc/aes_fc.pkl\n",
            "Epoch 83 [1/5] ANN Training Loss:0.147 Accuracy:0.998\n"
          ]
        },
        {
          "output_type": "stream",
          "name": "stderr",
          "text": [
            "100%|██████████| 2/2 [00:00<00:00, 167.87it/s]\n"
          ]
        },
        {
          "output_type": "stream",
          "name": "stdout",
          "text": [
            "Epoch 83 [2/2] ANN Validating Loss:0.144 Accuracy:0.964\n",
            "Save model to: ./aes_fc/aes_fc.pkl\n",
            "Epoch 84 [1/5] ANN Training Loss:0.139 Accuracy:0.964\n"
          ]
        },
        {
          "output_type": "stream",
          "name": "stderr",
          "text": [
            "100%|██████████| 2/2 [00:00<00:00, 178.11it/s]\n"
          ]
        },
        {
          "output_type": "stream",
          "name": "stdout",
          "text": [
            "Epoch 84 [2/2] ANN Validating Loss:0.144 Accuracy:1.000\n",
            "Save model to: ./aes_fc/aes_fc.pkl\n",
            "Epoch 85 [1/5] ANN Training Loss:0.142 Accuracy:1.000\n"
          ]
        },
        {
          "output_type": "stream",
          "name": "stderr",
          "text": [
            "100%|██████████| 2/2 [00:00<00:00, 217.35it/s]\n"
          ]
        },
        {
          "output_type": "stream",
          "name": "stdout",
          "text": [
            "Epoch 85 [2/2] ANN Validating Loss:0.120 Accuracy:0.996\n",
            "Save model to: ./aes_fc/aes_fc.pkl\n",
            "Epoch 86 [1/5] ANN Training Loss:0.140 Accuracy:1.000\n"
          ]
        },
        {
          "output_type": "stream",
          "name": "stderr",
          "text": [
            "100%|██████████| 2/2 [00:00<00:00, 203.13it/s]\n"
          ]
        },
        {
          "output_type": "stream",
          "name": "stdout",
          "text": [
            "Epoch 86 [2/2] ANN Validating Loss:0.123 Accuracy:1.000\n",
            "Save model to: ./aes_fc/aes_fc.pkl\n",
            "Epoch 87 [1/5] ANN Training Loss:0.133 Accuracy:1.000\n"
          ]
        },
        {
          "output_type": "stream",
          "name": "stderr",
          "text": [
            "100%|██████████| 2/2 [00:00<00:00, 153.86it/s]\n"
          ]
        },
        {
          "output_type": "stream",
          "name": "stdout",
          "text": [
            "Epoch 87 [2/2] ANN Validating Loss:0.123 Accuracy:0.977\n",
            "Save model to: ./aes_fc/aes_fc.pkl\n",
            "Epoch 88 [1/5] ANN Training Loss:0.144 Accuracy:0.982\n"
          ]
        },
        {
          "output_type": "stream",
          "name": "stderr",
          "text": [
            "100%|██████████| 2/2 [00:00<00:00, 225.07it/s]\n"
          ]
        },
        {
          "output_type": "stream",
          "name": "stdout",
          "text": [
            "Epoch 88 [2/2] ANN Validating Loss:0.122 Accuracy:1.000\n",
            "Save model to: ./aes_fc/aes_fc.pkl\n",
            "Epoch 89 [1/5] ANN Training Loss:0.139 Accuracy:0.995\n"
          ]
        },
        {
          "output_type": "stream",
          "name": "stderr",
          "text": [
            "100%|██████████| 2/2 [00:00<00:00, 106.70it/s]\n"
          ]
        },
        {
          "output_type": "stream",
          "name": "stdout",
          "text": [
            "Epoch 89 [2/2] ANN Validating Loss:0.158 Accuracy:1.000\n",
            "Save model to: ./aes_fc/aes_fc.pkl\n",
            "Epoch 90 [1/5] ANN Training Loss:0.141 Accuracy:1.000\n"
          ]
        },
        {
          "output_type": "stream",
          "name": "stderr",
          "text": [
            "100%|██████████| 2/2 [00:00<00:00, 215.56it/s]\n"
          ]
        },
        {
          "output_type": "stream",
          "name": "stdout",
          "text": [
            "Epoch 90 [2/2] ANN Validating Loss:0.116 Accuracy:1.000\n",
            "Save model to: ./aes_fc/aes_fc.pkl\n",
            "Epoch 91 [1/5] ANN Training Loss:0.120 Accuracy:1.000\n"
          ]
        },
        {
          "output_type": "stream",
          "name": "stderr",
          "text": [
            "100%|██████████| 2/2 [00:00<00:00, 124.41it/s]\n"
          ]
        },
        {
          "output_type": "stream",
          "name": "stdout",
          "text": [
            "Epoch 91 [2/2] ANN Validating Loss:0.138 Accuracy:0.979\n",
            "Save model to: ./aes_fc/aes_fc.pkl\n",
            "Epoch 92 [1/5] ANN Training Loss:0.133 Accuracy:0.982\n"
          ]
        },
        {
          "output_type": "stream",
          "name": "stderr",
          "text": [
            "100%|██████████| 2/2 [00:00<00:00, 221.04it/s]"
          ]
        },
        {
          "output_type": "stream",
          "name": "stdout",
          "text": [
            "Epoch 92 [2/2] ANN Validating Loss:0.133 Accuracy:0.998\n",
            "Save model to: ./aes_fc/aes_fc.pkl\n"
          ]
        },
        {
          "output_type": "stream",
          "name": "stderr",
          "text": [
            "\n"
          ]
        },
        {
          "output_type": "stream",
          "name": "stdout",
          "text": [
            "Epoch 93 [1/5] ANN Training Loss:0.128 Accuracy:0.995\n"
          ]
        },
        {
          "output_type": "stream",
          "name": "stderr",
          "text": [
            "100%|██████████| 2/2 [00:00<00:00, 221.90it/s]\n"
          ]
        },
        {
          "output_type": "stream",
          "name": "stdout",
          "text": [
            "Epoch 93 [2/2] ANN Validating Loss:0.118 Accuracy:1.000\n",
            "Save model to: ./aes_fc/aes_fc.pkl\n",
            "Epoch 94 [1/5] ANN Training Loss:0.131 Accuracy:1.000\n"
          ]
        },
        {
          "output_type": "stream",
          "name": "stderr",
          "text": [
            "100%|██████████| 2/2 [00:00<00:00, 192.91it/s]\n"
          ]
        },
        {
          "output_type": "stream",
          "name": "stdout",
          "text": [
            "Epoch 94 [2/2] ANN Validating Loss:0.166 Accuracy:0.977\n",
            "Save model to: ./aes_fc/aes_fc.pkl\n",
            "Epoch 95 [1/5] ANN Training Loss:0.118 Accuracy:0.984\n"
          ]
        },
        {
          "output_type": "stream",
          "name": "stderr",
          "text": [
            "100%|██████████| 2/2 [00:00<00:00, 191.35it/s]"
          ]
        },
        {
          "output_type": "stream",
          "name": "stdout",
          "text": [
            "Epoch 95 [2/2] ANN Validating Loss:0.113 Accuracy:1.000\n",
            "Save model to: ./aes_fc/aes_fc.pkl\n"
          ]
        },
        {
          "output_type": "stream",
          "name": "stderr",
          "text": [
            "\n"
          ]
        },
        {
          "output_type": "stream",
          "name": "stdout",
          "text": [
            "Epoch 96 [1/5] ANN Training Loss:0.137 Accuracy:0.998\n"
          ]
        },
        {
          "output_type": "stream",
          "name": "stderr",
          "text": [
            "100%|██████████| 2/2 [00:00<00:00, 95.89it/s]\n"
          ]
        },
        {
          "output_type": "stream",
          "name": "stdout",
          "text": [
            "Epoch 96 [2/2] ANN Validating Loss:0.139 Accuracy:1.000\n",
            "Save model to: ./aes_fc/aes_fc.pkl\n",
            "Epoch 97 [1/5] ANN Training Loss:0.125 Accuracy:1.000\n"
          ]
        },
        {
          "output_type": "stream",
          "name": "stderr",
          "text": [
            "100%|██████████| 2/2 [00:00<00:00, 149.93it/s]"
          ]
        },
        {
          "output_type": "stream",
          "name": "stdout",
          "text": [
            "Epoch 97 [2/2] ANN Validating Loss:0.124 Accuracy:1.000\n",
            "Save model to: ./aes_fc/aes_fc.pkl\n"
          ]
        },
        {
          "output_type": "stream",
          "name": "stderr",
          "text": [
            "\n"
          ]
        },
        {
          "output_type": "stream",
          "name": "stdout",
          "text": [
            "Epoch 98 [1/5] ANN Training Loss:0.128 Accuracy:1.000\n"
          ]
        },
        {
          "output_type": "stream",
          "name": "stderr",
          "text": [
            "100%|██████████| 2/2 [00:00<00:00, 160.44it/s]\n"
          ]
        },
        {
          "output_type": "stream",
          "name": "stdout",
          "text": [
            "Epoch 98 [2/2] ANN Validating Loss:0.137 Accuracy:0.977\n",
            "Save model to: ./aes_fc/aes_fc.pkl\n",
            "Epoch 99 [1/5] ANN Training Loss:0.128 Accuracy:0.986\n"
          ]
        },
        {
          "output_type": "stream",
          "name": "stderr",
          "text": [
            "100%|██████████| 2/2 [00:00<00:00, 196.65it/s]\n"
          ]
        },
        {
          "output_type": "stream",
          "name": "stdout",
          "text": [
            "Epoch 99 [2/2] ANN Validating Loss:0.125 Accuracy:0.994\n",
            "Save model to: ./aes_fc/aes_fc.pkl\n",
            "validating best model...\n"
          ]
        },
        {
          "output_type": "stream",
          "name": "stderr",
          "text": [
            "100%|██████████| 2/2 [00:00<00:00, 169.65it/s]\n"
          ]
        },
        {
          "output_type": "stream",
          "name": "stdout",
          "text": [
            "ANN Validating Accuracy:0.994\n",
            "0.9937238493723849\n"
          ]
        }
      ]
    },
    {
      "cell_type": "markdown",
      "source": [
        "## Convert to SNN using Spiking Jelly"
      ],
      "metadata": {
        "id": "H0QAosh4sKcM"
      }
    },
    {
      "cell_type": "code",
      "source": [
        "percentage = 0.004  # load 0.004 of the data\n",
        "norm_data_list = []\n",
        "for idx, (imgs, targets) in enumerate(train_data_loader):\n",
        "    norm_data_list.append(imgs)\n",
        "    if idx == int(len(train_data_loader) * percentage) - 1:\n",
        "        break\n",
        "norm_data = torch.cat(norm_data_list)\n",
        "print('use %d imgs to parse' % (norm_data.size(0)))\n",
        "\n",
        "# 调用parser，使用kernel为onnx\n",
        "# Call parser, use onnx kernel\n",
        "onnxparser = parser(name=model_name,\n",
        "                    log_dir=log_dir + '/parser',\n",
        "                    kernel='onnx')\n",
        "#     ann = pytorch_kernel.layer_reduction(ann)\n",
        "snn = onnxparser.parse(ann, norm_data.to(parser_device))\n",
        "\n",
        "# Save SNN model\n",
        "torch.save(snn, os.path.join(log_dir, 'snn-' + model_name + '.pkl'))"
      ],
      "metadata": {
        "id": "dIpm-E4gsUEQ",
        "colab": {
          "base_uri": "https://localhost:8080/"
        },
        "outputId": "5e8e2bd3-60e6-4bfb-fa60-1442551ed16a"
      },
      "execution_count": null,
      "outputs": [
        {
          "output_type": "stream",
          "name": "stderr",
          "text": [
            "/usr/local/lib/python3.7/dist-packages/ipykernel_launcher.py:25: DeprecationWarning: `np.long` is a deprecated alias for `np.compat.long`. To silence this warning, use `np.compat.long` by itself. In the likely event your code does not need to work on Python 2 you can use the builtin `int` for which `np.compat.long` is itself an alias. Doing this will not modify any behaviour and is safe. When replacing `np.long`, you may wish to use e.g. `np.int64` or `np.int32` to specify the precision. If you wish to review your current use, check the release note link for additional information.\n",
            "Deprecated in NumPy 1.20; for more details and guidance: https://numpy.org/devdocs/release/1.20.0-notes.html#deprecations\n"
          ]
        },
        {
          "output_type": "stream",
          "name": "stdout",
          "text": [
            "use 1914 imgs to parse\n",
            "parser log_dir: ./aes_fc/parser\n",
            "\n",
            "Getting intermediate output statistics...\n",
            "\n"
          ]
        },
        {
          "output_type": "stream",
          "name": "stderr",
          "text": [
            "100%|██████████| 4/4 [00:00<00:00, 427.40it/s]\n"
          ]
        },
        {
          "output_type": "stream",
          "name": "stdout",
          "text": [
            "Finished getting intermediate output statistics!\n",
            "\n",
            "Normalizing model...\n",
            "\n"
          ]
        },
        {
          "output_type": "stream",
          "name": "stderr",
          "text": [
            "100%|██████████| 4/4 [00:00<00:00, 8073.73it/s]"
          ]
        },
        {
          "output_type": "stream",
          "name": "stdout",
          "text": [
            "Finished normalizing model!\n",
            "no user-defined conversion method found, use default\n"
          ]
        },
        {
          "output_type": "stream",
          "name": "stderr",
          "text": [
            "\n"
          ]
        }
      ]
    },
    {
      "cell_type": "markdown",
      "source": [
        "## Run the SNN simulator by Spikingjelly"
      ],
      "metadata": {
        "id": "E72BVa89sYdZ"
      }
    },
    {
      "cell_type": "code",
      "source": [
        "fig = plt.figure('simulator')\n",
        "    # define simulator for classification task\n",
        "sim = classify_simulator(snn,\n",
        "                             log_dir=log_dir + '/simulator',\n",
        "                             device=simulator_device,\n",
        "                             canvas=fig\n",
        "                             )\n",
        "    # Simulate SNN\n",
        "sim.simulate(test_data_loader,\n",
        "                 T=T,\n",
        "                 online_drawer=True,\n",
        "                 ann_acc=ann_acc,\n",
        "                 fig_name=model_name,\n",
        "                 step_max=True\n",
        "                 )\n",
        "\n",
        "fig.savefig(\"graph.pdf\")"
      ],
      "metadata": {
        "id": "qUeJY0nMsdVJ",
        "colab": {
          "base_uri": "https://localhost:8080/",
          "height": 517
        },
        "outputId": "32ed7adf-0cc8-47cc-8d8e-d1af52953cc4"
      },
      "execution_count": null,
      "outputs": [
        {
          "output_type": "stream",
          "name": "stdout",
          "text": [
            "simulator log_dir: ./aes_fc/simulator\n",
            "simulator is working on the normal mode, device: cpu\n"
          ]
        },
        {
          "output_type": "stream",
          "name": "stderr",
          "text": [
            "\r  0%|          | 0/2 [00:00<?, ?it/s]/usr/local/lib/python3.7/dist-packages/ipykernel_launcher.py:25: DeprecationWarning: `np.long` is a deprecated alias for `np.compat.long`. To silence this warning, use `np.compat.long` by itself. In the likely event your code does not need to work on Python 2 you can use the builtin `int` for which `np.compat.long` is itself an alias. Doing this will not modify any behaviour and is safe. When replacing `np.long`, you may wish to use e.g. `np.int64` or `np.int32` to specify the precision. If you wish to review your current use, check the release note link for additional information.\n",
            "Deprecated in NumPy 1.20; for more details and guidance: https://numpy.org/devdocs/release/1.20.0-notes.html#deprecations\n"
          ]
        },
        {
          "output_type": "display_data",
          "data": {
            "image/png": "[encoded data removed]",
            "text/plain": [
              "<Figure size 432x288 with 1 Axes>"
            ]
          },
          "metadata": {
            "needs_background": "light"
          }
        },
        {
          "output_type": "stream",
          "name": "stderr",
          "text": [
            "\r 50%|█████     | 1/2 [00:00<00:00,  4.30it/s]/usr/local/lib/python3.7/dist-packages/ipykernel_launcher.py:25: DeprecationWarning: `np.long` is a deprecated alias for `np.compat.long`. To silence this warning, use `np.compat.long` by itself. In the likely event your code does not need to work on Python 2 you can use the builtin `int` for which `np.compat.long` is itself an alias. Doing this will not modify any behaviour and is safe. When replacing `np.long`, you may wish to use e.g. `np.int64` or `np.int32` to specify the precision. If you wish to review your current use, check the release note link for additional information.\n",
            "Deprecated in NumPy 1.20; for more details and guidance: https://numpy.org/devdocs/release/1.20.0-notes.html#deprecations\n"
          ]
        },
        {
          "output_type": "display_data",
          "data": {
            "text/plain": [
              "<Figure size 432x288 with 0 Axes>"
            ]
          },
          "metadata": {}
        },
        {
          "output_type": "stream",
          "name": "stderr",
          "text": [
            "\r100%|██████████| 2/2 [00:00<00:00,  7.05it/s]"
          ]
        },
        {
          "output_type": "stream",
          "name": "stdout",
          "text": [
            "--------------------simulator summary--------------------\n",
            "time elapsed: 0.28720657699997787 (sec)\n",
            "---------------------------------------------------------\n"
          ]
        },
        {
          "output_type": "stream",
          "name": "stderr",
          "text": [
            "\n"
          ]
        }
      ]
    },
    {
      "cell_type": "markdown",
      "source": [
        "# Quantization and Tests for RTL models"
      ],
      "metadata": {
        "id": "Y7UQHF_Lsrix"
      }
    },
    {
      "cell_type": "markdown",
      "source": [
        "The spike trains and the membrane potentials of the neurons are saved in their respective list"
      ],
      "metadata": {
        "id": "VK3_g38IvVOm"
      }
    },
    {
      "cell_type": "markdown",
      "source": [
        "## Function to quantize"
      ],
      "metadata": {
        "id": "TAyIV_oYPuVc"
      }
    },
    {
      "cell_type": "code",
      "source": [
        "def fixed_point_quantize(x, wl, fl):\n",
        "    \"\"\" Quantize a single precision Floating Point into low-precision Fixed\n",
        "    Point\n",
        "\n",
        "    Args:\n",
        "        - :param: `x` (torch.Tensor) :  the single precision number to be\n",
        "          quantized\n",
        "        - :param: `wl` (int) : word length of the fixed point number being\n",
        "          simulated\n",
        "        - :param: `fl` (int) : fractional length of the fixed point number\n",
        "          being simulated\n",
        "\n",
        "    Returns:\n",
        "        - a quantized low-precision block floating point number (torch.Tensor)\n",
        "          \"\"\"\n",
        "    assert isinstance(x, torch.Tensor)\n",
        "    # Clamp the tensor to range of [-2**(wl-1)/2**fl,2**(wl-1)/2**(wl-1)/2**fl]\n",
        "    min_val, max_val = -2**(wl-1)/2**fl, (2**(wl-1)-1)/2**fl\n",
        "    out = torch.clamp(x, min_val, max_val)\n",
        "    # quantize process\n",
        "    out = torch.round(out*2**fl)/2**fl\n",
        "    # assert rounding in [\"stochastic\", \"nearest\"]\n",
        "    return out"
      ],
      "metadata": {
        "id": "Whcr9ujePp0d"
      },
      "execution_count": null,
      "outputs": []
    },
    {
      "cell_type": "code",
      "source": [
        "from spikingjelly.clock_driven import neuron\n",
        "snn = torch.load('./aes_fc/snn-aes_fc.pkl')\n",
        "batch_size = 439 #set the batch_size to whole testset size\n",
        "max_values = [100,100,100,100,100,100,100,8]\n",
        "min_values = [0,0,0,0,-100,-100,-100,-8]\n",
        "train_loader, test_loader = get_loader(batch_size,max_values,min_values)\n",
        "test_data, test_label = next(iter(test_loader))\n",
        "is_quantize = True\n",
        "\n",
        "T = 30 #number of timestepts\n",
        "n_fractional = 6\n",
        "\n",
        "for module in snn.module_list:\n",
        "    if (isinstance(module, nn.Linear) and is_quantize):\n",
        "        module.weight.data = fixed_point_quantize(module.weight.data,8,n_fractional) #Quantize to n bit fractional\n",
        "        module.bias.data = fixed_point_quantize(module.bias.data,16,2*n_fractional) #Quantize to n bit fractional\n",
        "layer_keys = [\"Flatten\", \"FC1\", \"IF1\", \"FC2\"]\n",
        "module_dict = dict(zip(layer_keys, snn.module_list))\n",
        "if is_quantize:  \n",
        "  test_data = fixed_point_quantize(test_data,8,n_fractional)\n",
        "out = {}\n",
        "membrane_potential = []\n",
        "spike_list = []\n",
        "for i in range(T):\n",
        "    temp = test_data\n",
        "    for key in module_dict.keys():\n",
        "        out[key] = module_dict[key](temp)\n",
        "        if key==\"IF1\":\n",
        "            membrane_potential.append(module_dict[key].v)\n",
        "            # print(module_dict[key].v[0])\n",
        "            spike_list.append(out[key])\n",
        "        temp = out[key]\n",
        "    if i == 0:\n",
        "        counter = out[\"FC2\"]\n",
        "    else:\n",
        "        # print(out[\"FC2\"])\n",
        "        counter += out[\"FC2\"]\n",
        "print(counter)\n",
        "correct = (counter.max(1)[1]==test_label).sum()\n",
        "diff = (counter.max(1)[1]-test_label).max()\n",
        "print(diff)\n",
        "print(\"Correct= {:.2f}%\".format(correct/batch_size*100))"
      ],
      "metadata": {
        "colab": {
          "base_uri": "https://localhost:8080/"
        },
        "id": "IJwUw5bjsy-B",
        "outputId": "a6bd8271-c4b3-48ec-cf44-ed5e18d057fc"
      },
      "execution_count": null,
      "outputs": [
        {
          "output_type": "stream",
          "name": "stdout",
          "text": [
            "tensor([[-24.1060, -11.6704, -10.8916,  ...,   3.7021,   0.7788,  -5.1294],\n",
            "        [ -8.6997,   0.5171,   1.6084,  ...,  -4.9541,  -9.6899, -18.8481],\n",
            "        [-16.4028,  -5.5767,  -4.6416,  ...,  -0.6260,  -4.4556, -11.9888],\n",
            "        ...,\n",
            "        [-56.8560, -38.2017, -38.2041,  ...,  22.9521,  24.3726,  26.3081],\n",
            "        [-57.8247, -39.2798, -39.3604,  ...,  23.9209,  25.7007,  28.3081],\n",
            "        [-56.8560, -38.2017, -38.2041,  ...,  22.9521,  24.3726,  26.3081]],\n",
            "       grad_fn=<AddBackward0>)\n",
            "tensor(1)\n",
            "Correct= 97.72%\n"
          ]
        },
        {
          "output_type": "stream",
          "name": "stderr",
          "text": [
            "/usr/local/lib/python3.7/dist-packages/ipykernel_launcher.py:25: DeprecationWarning: `np.long` is a deprecated alias for `np.compat.long`. To silence this warning, use `np.compat.long` by itself. In the likely event your code does not need to work on Python 2 you can use the builtin `int` for which `np.compat.long` is itself an alias. Doing this will not modify any behaviour and is safe. When replacing `np.long`, you may wish to use e.g. `np.int64` or `np.int32` to specify the precision. If you wish to review your current use, check the release note link for additional information.\n",
            "Deprecated in NumPy 1.20; for more details and guidance: https://numpy.org/devdocs/release/1.20.0-notes.html#deprecations\n"
          ]
        }
      ]
    },
    {
      "cell_type": "markdown",
      "source": [
        "## Testing with integer weights "
      ],
      "metadata": {
        "id": "WLwuonD_M0ob"
      }
    },
    {
      "cell_type": "code",
      "source": [
        "from spikingjelly.clock_driven import neuron\n",
        "snn = torch.load('./aes_fc/snn-aes_fc.pkl')\n",
        "batch_size = 439 #set the batch_size to whole testset size\n",
        "max_values = [100,100,100,100,100,100,100,8]\n",
        "min_values = [0,0,0,0,-100,-100,-100,-8]\n",
        "train_loader, test_loader = get_loader(batch_size,max_values,min_values)\n",
        "test_data, test_label = next(iter(test_loader))"
      ],
      "metadata": {
        "id": "1KZ8Hea6izxN",
        "colab": {
          "base_uri": "https://localhost:8080/"
        },
        "outputId": "7a9ae622-3016-49dd-ac6a-0c5fa5177e40"
      },
      "execution_count": null,
      "outputs": [
        {
          "output_type": "stream",
          "name": "stderr",
          "text": [
            "/usr/local/lib/python3.7/dist-packages/ipykernel_launcher.py:25: DeprecationWarning: `np.long` is a deprecated alias for `np.compat.long`. To silence this warning, use `np.compat.long` by itself. In the likely event your code does not need to work on Python 2 you can use the builtin `int` for which `np.compat.long` is itself an alias. Doing this will not modify any behaviour and is safe. When replacing `np.long`, you may wish to use e.g. `np.int64` or `np.int32` to specify the precision. If you wish to review your current use, check the release note link for additional information.\n",
            "Deprecated in NumPy 1.20; for more details and guidance: https://numpy.org/devdocs/release/1.20.0-notes.html#deprecations\n"
          ]
        }
      ]
    },
    {
      "cell_type": "code",
      "source": [
        "snn = torch.load('./aes_fc/snn-aes_fc.pkl')\n",
        "is_quantize = True\n",
        "T = 30 #number of timestepts\n",
        "n_fractional = 6\n",
        "\n",
        "for name, module in snn.named_modules():\n",
        "    if (isinstance(module, nn.Linear) and is_quantize):\n",
        "        module.weight.data = fixed_point_quantize(module.weight.data,8,n_fractional)\n",
        "        if \"3\" in name: #Quantize to n bit fractional\n",
        "           module.bias.data = fixed_point_quantize(module.bias.data,8,n_fractional)\n",
        "        else:\n",
        "           module.bias.data = fixed_point_quantize(module.bias.data,16,2*n_fractional)\n",
        "if is_quantize:  \n",
        "  test_data_new = fixed_point_quantize(test_data,8,n_fractional)\n",
        "layer_keys = [\"Flatten\", \"FC1\", \"IF1\", \"FC2\"]\n",
        "module_dict = dict(zip(layer_keys, snn.module_list))\n",
        "out = {}\n",
        "membrane_potential = []\n",
        "spike_list = []\n",
        "for i in range(T):\n",
        "    temp = test_data_new\n",
        "    for key in module_dict.keys():\n",
        "        out[key] = module_dict[key](temp)\n",
        "        if key == \"IF1\":\n",
        "            membrane_potential.append(module_dict[key].v)\n",
        "            spike_list.append(out[key])\n",
        "            temp = out[key]\n",
        "        else:\n",
        "            temp =out[key]\n",
        "    if i == 0:\n",
        "        counter = out[\"FC2\"]\n",
        "    else:\n",
        "        counter += out[\"FC2\"]\n",
        "correct = (counter.max(1)[1]==test_label).sum()\n",
        "diff = (counter.max(1)[1]-test_label).max()\n",
        "print(diff)\n",
        "print(\"Max difference between SNN predictions and labels= \"+ str(diff.item()))\n",
        "diff = (counter.max(1)[1]-test_label).min()\n",
        "print(\"Min difference between SNN predictions and labels= \"+ str(diff.item()))\n",
        "print(counter.max(1)[1])\n",
        "print(counter)\n",
        "print(\"Correct= {:.2f}%\".format(correct/batch_size*100))"
      ],
      "metadata": {
        "colab": {
          "base_uri": "https://localhost:8080/"
        },
        "id": "5fRoIwLqMxeX",
        "outputId": "1d79fede-ef1d-492d-b3b5-704127bf1262"
      },
      "execution_count": null,
      "outputs": [
        {
          "output_type": "stream",
          "name": "stdout",
          "text": [
            "tensor(1)\n",
            "Max difference between SNN predictions and labels= 1\n",
            "Min difference between SNN predictions and labels= -1\n",
            "tensor([ 3,  0,  3,  6, 10,  3,  6,  5,  0,  4, 10,  5, 10,  6,  0, 10,  4,  7,\n",
            "         7,  7,  0,  1,  5,  5,  5,  3,  4,  4,  3,  6,  4, 10,  0,  5,  4,  3,\n",
            "         4,  7,  0, 10,  1, 10, 10,  5,  2,  2,  0,  1,  0,  1,  6,  1,  2,  0,\n",
            "         1,  0,  1,  7,  0,  0,  4,  3,  0,  1,  2,  3,  4,  3, 10,  3,  6, 10,\n",
            "         0,  0,  5,  5,  4,  4,  2,  5,  3,  0, 10,  0,  5,  2,  5,  1,  0,  0,\n",
            "         5,  3,  1,  4, 10,  0, 10,  5,  5, 10,  2,  2,  1,  0,  6, 10,  0,  1,\n",
            "        10,  5,  2,  0,  4,  5,  0,  1, 10,  0, 10,  4,  5, 10, 10,  6,  5,  5,\n",
            "         1, 10,  0,  3,  5,  1,  7, 10,  0,  5,  5,  5,  5, 10,  2,  5,  1, 10,\n",
            "        10,  0,  2,  2,  3, 10,  4,  0, 10,  8,  0,  0,  3, 10, 10,  0,  0, 10,\n",
            "         4,  0,  0,  7,  4,  0, 10,  0, 10,  0, 10,  0,  1,  5,  2,  5,  3, 10,\n",
            "         4,  0,  4, 10,  0, 10,  0,  0, 10,  3, 10, 10, 10,  6,  0,  4,  4,  8,\n",
            "         7,  2, 10, 10,  6,  5, 10,  5,  5, 10,  5,  4,  5,  0,  6,  0,  2,  0,\n",
            "         2,  5,  4,  4, 10, 10,  0,  0,  1,  0,  1,  0,  4,  7,  2,  1,  6,  5,\n",
            "         0,  0,  5,  4,  5,  1,  0,  7,  1,  5,  4,  3,  2,  6,  4,  0,  5, 10,\n",
            "         6,  5,  0,  3,  4,  5, 10, 10,  2,  5,  5,  5, 10, 10,  0,  4,  5,  1,\n",
            "         5,  1,  0, 10, 10,  0,  0,  4,  1, 10,  3,  4,  0,  5,  3,  0,  3,  2,\n",
            "         0,  0,  1,  6, 10,  2,  0,  0,  0,  5,  7,  2,  0,  0,  4,  0,  0,  5,\n",
            "         5,  2,  3,  2,  0,  1,  3, 10,  1, 10,  0,  6,  5,  0,  4,  1,  2,  2,\n",
            "         0, 10,  3, 10,  1,  6,  0,  5,  0,  7,  3,  5,  6,  2,  7,  2,  0,  0,\n",
            "         3,  3,  6,  0,  1,  5,  1, 10,  1,  4, 10, 10,  0, 10,  0,  1, 10,  1,\n",
            "         4,  0, 10,  2,  5,  0,  2,  4,  4,  0,  6,  5,  7,  3,  4,  6,  0,  5,\n",
            "         5,  2,  3,  6,  0,  5,  0, 10,  7,  0,  5,  0, 10, 10,  0,  0,  4,  6,\n",
            "         3,  2,  4,  5,  6,  0,  0,  4,  5, 10,  1,  4,  0,  7, 10,  4,  0,  0,\n",
            "        10, 10,  1,  4,  0,  0,  2,  2,  0, 10,  1,  6,  5, 10,  6,  0,  1, 10,\n",
            "         3,  5,  0,  4,  5,  6,  0])\n",
            "tensor([[  1.0938,   7.8281,   9.1562,  ..., -10.0938, -15.7031, -26.8438],\n",
            "        [ 28.7188,  27.6094,  24.3125,  ..., -24.2188, -33.2031, -50.4688],\n",
            "        [ -0.8281,   6.5156,   7.8438,  ...,  -9.2969, -14.8438, -25.8906],\n",
            "        ...,\n",
            "        [-16.2344,  -5.6719,  -4.6562,  ...,  -0.6406,  -4.3750, -12.1719],\n",
            "        [-22.9844, -11.5312, -10.7500,  ...,   3.8594,   1.3281,  -4.2656],\n",
            "        [ 28.7188,  27.6094,  24.3125,  ..., -24.2188, -33.2031, -50.4688]],\n",
            "       grad_fn=<AddBackward0>)\n",
            "Correct= 95.44%\n"
          ]
        }
      ]
    },
    {
      "cell_type": "code",
      "source": [
        "snn = torch.load('./aes_fc/snn-aes_fc.pkl')\n",
        "is_quantize = True\n",
        "T = 30 #number of timestepts\n",
        "n_fractional = 6\n",
        "\n",
        "for name, module in snn.named_modules():\n",
        "    if (isinstance(module, nn.Linear) and is_quantize):\n",
        "        module.weight.data = fixed_point_quantize(module.weight.data,8,n_fractional)*2**n_fractional\n",
        "        if \"3\" in name: #Quantize to n bit fractional\n",
        "           module.bias.data = fixed_point_quantize(module.bias.data,8,n_fractional)*2**n_fractional\n",
        "        else:\n",
        "           module.bias.data = fixed_point_quantize(module.bias.data,16,2*n_fractional)*2**(2*n_fractional)\n",
        "    if (isinstance(module,neuron.IFNode)):\n",
        "        module.v_threshold = module.v_threshold*2**(2*n_fractional)\n",
        "\n",
        "if is_quantize:  \n",
        "  test_data_new = fixed_point_quantize(test_data,8,n_fractional)*2**n_fractional\n",
        "layer_keys = [\"Flatten\", \"FC1\", \"IF1\", \"FC2\"]\n",
        "module_dict = dict(zip(layer_keys, snn.module_list))\n",
        "out = {}\n",
        "membrane_potential = []\n",
        "spike_list = []\n",
        "for i in range(T):\n",
        "    temp = test_data_new\n",
        "    for key in module_dict.keys():\n",
        "        out[key] = module_dict[key](temp)\n",
        "        if key == \"IF1\":\n",
        "            membrane_potential.append(module_dict[key].v)\n",
        "            # print(module_dict[key].v[0])\n",
        "            spike_list.append(out[key])\n",
        "            temp = out[key]\n",
        "        else:\n",
        "            temp =out[key]\n",
        "    if i == 0:\n",
        "        counter = out[\"FC2\"]\n",
        "    else:\n",
        "        counter += out[\"FC2\"]\n",
        "        # print(out[\"FC2\"])\n",
        "#print(module_dict['IF1'].v)\n",
        "correct = (counter.max(1)[1]==test_label).sum()\n",
        "print(counter)\n",
        "#print(module_dict['FC1'].weight.data)\n",
        "#print(spike_list[5][0])\n",
        "#print(membrane_potential[29][0])\n",
        "print(\"Correct= {:.2f}%\".format(correct/batch_size*100))"
      ],
      "metadata": {
        "colab": {
          "base_uri": "https://localhost:8080/"
        },
        "outputId": "bbd47ffa-aedc-4257-8aa8-3c1446492a90",
        "id": "a7Agiz1LXggP"
      },
      "execution_count": null,
      "outputs": [
        {
          "output_type": "stream",
          "name": "stdout",
          "text": [
            "tensor([[   70.,   501.,   586.,  ...,  -646., -1005., -1718.],\n",
            "        [ 1838.,  1767.,  1556.,  ..., -1550., -2125., -3230.],\n",
            "        [  -53.,   417.,   502.,  ...,  -595.,  -950., -1657.],\n",
            "        ...,\n",
            "        [-1039.,  -363.,  -298.,  ...,   -41.,  -280.,  -779.],\n",
            "        [-1471.,  -738.,  -688.,  ...,   247.,    85.,  -273.],\n",
            "        [ 1838.,  1767.,  1556.,  ..., -1550., -2125., -3230.]],\n",
            "       grad_fn=<AddBackward0>)\n",
            "Correct= 95.44%\n"
          ]
        }
      ]
    },
    {
      "cell_type": "markdown",
      "source": [
        "## Extract weights, bias, and inputs for testing"
      ],
      "metadata": {
        "id": "Zg1qxhlpn5vf"
      }
    },
    {
      "cell_type": "code",
      "source": [
        "for key in module_dict.keys():\n",
        "  if (isinstance(module_dict[key],nn.Linear)):\n",
        "    filename_weight = key + \"_weight.txt\"\n",
        "    filename_bias = key +\"_bias.txt\"\n",
        "    weight = module_dict[key].weight.data.numpy()\n",
        "    weight = np.reshape(weight,(-1,1))\n",
        "    #print(weight)\n",
        "    np.savetxt(filename_weight,weight,fmt=\"%d\")\n",
        "    bias = module_dict[key].bias.data.numpy()\n",
        "    bias = np.reshape(bias,(-1,1))\n",
        "    np.savetxt(filename_bias,bias,fmt=\"%d\")\n",
        "np.savetxt(\"input_img.txt\",test_data_new,fmt=\"%d\")\n",
        "np.savetxt(\"input_label.txt\",test_label,fmt=\"%d\")\n",
        "np.savetxt(\"v.txt\",counter.detach().cpu().numpy(),fmt=\"%d\")"
      ],
      "metadata": {
        "id": "gZvQN-zPoCQb"
      },
      "execution_count": null,
      "outputs": []
    },
    {
      "cell_type": "markdown",
      "source": [
        "## Function to test with 1 input"
      ],
      "metadata": {
        "id": "i2hcuOkIN-y1"
      }
    },
    {
      "cell_type": "code",
      "source": [
        "def snn_single_input(snn, x, max_values, min_values,T):\n",
        "    \"\"\" Run inference on a single input\n",
        "\n",
        "    Args:\n",
        "        - :param: `snn` (SNN model) :  the trained SNN model\n",
        "        - :param: `x` (numpy.ndarray) : numpy array with size of [8,]\n",
        "           for example: x = np.array([64, 64, 64, 64, 0 , 0 ,0 , 32])\n",
        "        - :param: `max_values` (list) : list of max values\n",
        "        - :param: `min_values` (list) : list of min_values\n",
        "        - :param: `T` (int) : number of time steps\n",
        "    Returns:\n",
        "        - Guessed number of cores\n",
        "          \"\"\"\n",
        "    x = x.astype(float)\n",
        "    for i in range(x.shape[0]):\n",
        "      max_val = max_values[i]\n",
        "      min_val = min_values[i]\n",
        "      x[i] = (x[i]-min_val)/(max_val-min_val)\n",
        "    x = np.expand_dims(x,axis=0)\n",
        "    x = torch.from_numpy(x).float()\n",
        "    for i in range(T):\n",
        "      if i==0:\n",
        "        counter=snn(x)\n",
        "      else:\n",
        "        counter+=snn(x)\n",
        "    return counter.max(1)[1]"
      ],
      "metadata": {
        "id": "s-frj9FkOuUo"
      },
      "execution_count": null,
      "outputs": []
    },
    {
      "cell_type": "code",
      "source": [
        "snn = torch.load('./aes_fc/snn-aes_fc.pkl')\n",
        "max_values = [100,100,100,100,100,100,100,8]\n",
        "min_values = [0,0,0,0,-100,-100,-100,-8]\n",
        "T = 30\n",
        "x = np.array([66,61,55,50,5,6,5,-4])\n",
        "result = snn_single_input(snn,x,max_values,min_values,T)\n",
        "print(result)"
      ],
      "metadata": {
        "colab": {
          "base_uri": "https://localhost:8080/"
        },
        "id": "k9Xn0RC4ZPRh",
        "outputId": "20d4a6ae-9542-4562-d884-95f0879751ad"
      },
      "execution_count": null,
      "outputs": [
        {
          "output_type": "stream",
          "name": "stdout",
          "text": [
            "tensor([7])\n"
          ]
        }
      ]
    }
  ]
}